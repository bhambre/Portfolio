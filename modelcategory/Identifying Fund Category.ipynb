{
 "cells": [
  {
   "cell_type": "markdown",
   "metadata": {},
   "source": [
    "# Identifying Fund Category\n",
    "Based on a model or portfolios asset allocation, is it possible to identify the fund category with the use of machine learning."
   ]
  },
  {
   "cell_type": "code",
   "execution_count": 1,
   "metadata": {},
   "outputs": [],
   "source": [
    "import pandas as pd\n",
    "import warnings\n",
    "warnings.filterwarnings('ignore')"
   ]
  },
  {
   "cell_type": "code",
   "execution_count": 3,
   "metadata": {},
   "outputs": [
    {
     "name": "stdout",
     "output_type": "stream",
     "text": [
      "<class 'pandas.core.frame.DataFrame'>\n",
      "Int64Index: 822943 entries, 0 to 4\n",
      "Data columns (total 14 columns):\n",
      "CUSIP                     822943 non-null object\n",
      "CategoryName              822943 non-null object\n",
      "EquityStyleboxName        26939 non-null object\n",
      "EquityStyleboxShort       26939 non-null object\n",
      "FundName                  822943 non-null object\n",
      "IndexStrategyBoxVerbal    27171 non-null object\n",
      "MStarID                   822943 non-null object\n",
      "MorninstarStylebox        26939 non-null object\n",
      "ProviderCompanyName       795772 non-null object\n",
      "SecurityType              822943 non-null object\n",
      "ShareClassType            822943 non-null object\n",
      "Symbol                    822943 non-null object\n",
      "Unnamed: 11               0 non-null float64\n",
      "Unnamed: 8                0 non-null float64\n",
      "dtypes: float64(2), object(12)\n",
      "memory usage: 94.2+ MB\n",
      "None\n"
     ]
    },
    {
     "data": {
      "text/html": [
       "<div>\n",
       "<style scoped>\n",
       "    .dataframe tbody tr th:only-of-type {\n",
       "        vertical-align: middle;\n",
       "    }\n",
       "\n",
       "    .dataframe tbody tr th {\n",
       "        vertical-align: top;\n",
       "    }\n",
       "\n",
       "    .dataframe thead th {\n",
       "        text-align: right;\n",
       "    }\n",
       "</style>\n",
       "<table border=\"1\" class=\"dataframe\">\n",
       "  <thead>\n",
       "    <tr style=\"text-align: right;\">\n",
       "      <th></th>\n",
       "      <th>CUSIP</th>\n",
       "      <th>CategoryName</th>\n",
       "      <th>EquityStyleboxName</th>\n",
       "      <th>EquityStyleboxShort</th>\n",
       "      <th>FundName</th>\n",
       "      <th>IndexStrategyBoxVerbal</th>\n",
       "      <th>MStarID</th>\n",
       "      <th>MorninstarStylebox</th>\n",
       "      <th>ProviderCompanyName</th>\n",
       "      <th>SecurityType</th>\n",
       "      <th>ShareClassType</th>\n",
       "      <th>Symbol</th>\n",
       "      <th>Unnamed: 11</th>\n",
       "      <th>Unnamed: 8</th>\n",
       "    </tr>\n",
       "  </thead>\n",
       "  <tbody>\n",
       "    <tr>\n",
       "      <td>0</td>\n",
       "      <td>06828M306</td>\n",
       "      <td>Foreign Large Growth</td>\n",
       "      <td>NaN</td>\n",
       "      <td>NaN</td>\n",
       "      <td>Baron International Growth Retail</td>\n",
       "      <td></td>\n",
       "      <td>FOUSA08N5P</td>\n",
       "      <td>NaN</td>\n",
       "      <td>NaN</td>\n",
       "      <td>FO</td>\n",
       "      <td>Adv</td>\n",
       "      <td>BIGFX</td>\n",
       "      <td>NaN</td>\n",
       "      <td>NaN</td>\n",
       "    </tr>\n",
       "    <tr>\n",
       "      <td>1</td>\n",
       "      <td>47804A817</td>\n",
       "      <td>Diversified Emerging Mkts</td>\n",
       "      <td>NaN</td>\n",
       "      <td>NaN</td>\n",
       "      <td>JHancock Emerging Markets NAV</td>\n",
       "      <td></td>\n",
       "      <td>FOUSA06GNT</td>\n",
       "      <td>NaN</td>\n",
       "      <td>NaN</td>\n",
       "      <td>FO</td>\n",
       "      <td>Other</td>\n",
       "      <td>JEVNX</td>\n",
       "      <td>NaN</td>\n",
       "      <td>NaN</td>\n",
       "    </tr>\n",
       "    <tr>\n",
       "      <td>2</td>\n",
       "      <td>39137C503</td>\n",
       "      <td>High Yield Bond</td>\n",
       "      <td>NaN</td>\n",
       "      <td>NaN</td>\n",
       "      <td>Great-West Putnam High Yield Bond Inv</td>\n",
       "      <td></td>\n",
       "      <td>FOUSA04AI3</td>\n",
       "      <td>NaN</td>\n",
       "      <td>NaN</td>\n",
       "      <td>FO</td>\n",
       "      <td>Other</td>\n",
       "      <td>MXHYX</td>\n",
       "      <td>NaN</td>\n",
       "      <td>NaN</td>\n",
       "    </tr>\n",
       "    <tr>\n",
       "      <td>3</td>\n",
       "      <td>39137C305</td>\n",
       "      <td>Intermediate-Term Bond</td>\n",
       "      <td>NaN</td>\n",
       "      <td>NaN</td>\n",
       "      <td>Great-West Core Bond Inv</td>\n",
       "      <td></td>\n",
       "      <td>FOUSA04AI2</td>\n",
       "      <td>NaN</td>\n",
       "      <td>NaN</td>\n",
       "      <td>FO</td>\n",
       "      <td>Other</td>\n",
       "      <td>MXFDX</td>\n",
       "      <td>NaN</td>\n",
       "      <td>NaN</td>\n",
       "    </tr>\n",
       "    <tr>\n",
       "      <td>4</td>\n",
       "      <td>245908736</td>\n",
       "      <td>High Yield Bond</td>\n",
       "      <td>NaN</td>\n",
       "      <td>NaN</td>\n",
       "      <td>Delaware High-Yield Opportunities R</td>\n",
       "      <td></td>\n",
       "      <td>FOUSA04AHR</td>\n",
       "      <td>NaN</td>\n",
       "      <td>NaN</td>\n",
       "      <td>FO</td>\n",
       "      <td>Retirement</td>\n",
       "      <td>DHIRX</td>\n",
       "      <td>NaN</td>\n",
       "      <td>NaN</td>\n",
       "    </tr>\n",
       "  </tbody>\n",
       "</table>\n",
       "</div>"
      ],
      "text/plain": [
       "       CUSIP               CategoryName EquityStyleboxName  \\\n",
       "0  06828M306       Foreign Large Growth                NaN   \n",
       "1  47804A817  Diversified Emerging Mkts                NaN   \n",
       "2  39137C503            High Yield Bond                NaN   \n",
       "3  39137C305     Intermediate-Term Bond                NaN   \n",
       "4  245908736            High Yield Bond                NaN   \n",
       "\n",
       "  EquityStyleboxShort                               FundName  \\\n",
       "0                 NaN      Baron International Growth Retail   \n",
       "1                 NaN          JHancock Emerging Markets NAV   \n",
       "2                 NaN  Great-West Putnam High Yield Bond Inv   \n",
       "3                 NaN               Great-West Core Bond Inv   \n",
       "4                 NaN    Delaware High-Yield Opportunities R   \n",
       "\n",
       "  IndexStrategyBoxVerbal     MStarID MorninstarStylebox ProviderCompanyName  \\\n",
       "0                         FOUSA08N5P                NaN                 NaN   \n",
       "1                         FOUSA06GNT                NaN                 NaN   \n",
       "2                         FOUSA04AI3                NaN                 NaN   \n",
       "3                         FOUSA04AI2                NaN                 NaN   \n",
       "4                         FOUSA04AHR                NaN                 NaN   \n",
       "\n",
       "  SecurityType ShareClassType Symbol  Unnamed: 11  Unnamed: 8  \n",
       "0           FO            Adv  BIGFX          NaN         NaN  \n",
       "1           FO          Other  JEVNX          NaN         NaN  \n",
       "2           FO          Other  MXHYX          NaN         NaN  \n",
       "3           FO          Other  MXFDX          NaN         NaN  \n",
       "4           FO     Retirement  DHIRX          NaN         NaN  "
      ]
     },
     "execution_count": 3,
     "metadata": {},
     "output_type": "execute_result"
    }
   ],
   "source": [
    "#fund category data\n",
    "import glob\n",
    "\n",
    "file_list = glob.glob('./datafiles/morningstar/*.csv')\n",
    "file_list\n",
    "\n",
    "df_list = []\n",
    "for i in file_list:\n",
    "    df = pd.read_csv(i)\n",
    "    df_list.append(df)\n",
    "\n",
    "ms = pd.concat(df_list)\n",
    "ms = ms.rename(columns={'Ticker':'Symbol'})\n",
    "print (ms.info())\n",
    "ms.head()"
   ]
  },
  {
   "cell_type": "code",
   "execution_count": 4,
   "metadata": {},
   "outputs": [
    {
     "name": "stdout",
     "output_type": "stream",
     "text": [
      "<class 'pandas.core.frame.DataFrame'>\n",
      "Int64Index: 1977158 entries, 0 to 8755\n",
      "Data columns (total 20 columns):\n",
      "AsOfDate                int64\n",
      "Valoren                 int64\n",
      "CUSIP                   object\n",
      "ISIN                    object\n",
      "SEDOL                   float64\n",
      "Currency                object\n",
      "Exchange                object\n",
      "Symbol                  object\n",
      "Name                    object\n",
      "ShortName               object\n",
      "Prefix                  object\n",
      "Suffix                  object\n",
      "InstrumentClass         object\n",
      "CFICode                 object\n",
      "CountryName             object\n",
      "CountryCode             object\n",
      "CategoryName            object\n",
      "ClassificationName      object\n",
      "AllocationPercentage    float64\n",
      "LastModified            int64\n",
      "dtypes: float64(2), int64(3), object(15)\n",
      "memory usage: 316.8+ MB\n",
      "None\n"
     ]
    },
    {
     "data": {
      "text/html": [
       "<div>\n",
       "<style scoped>\n",
       "    .dataframe tbody tr th:only-of-type {\n",
       "        vertical-align: middle;\n",
       "    }\n",
       "\n",
       "    .dataframe tbody tr th {\n",
       "        vertical-align: top;\n",
       "    }\n",
       "\n",
       "    .dataframe thead th {\n",
       "        text-align: right;\n",
       "    }\n",
       "</style>\n",
       "<table border=\"1\" class=\"dataframe\">\n",
       "  <thead>\n",
       "    <tr style=\"text-align: right;\">\n",
       "      <th></th>\n",
       "      <th>AsOfDate</th>\n",
       "      <th>Valoren</th>\n",
       "      <th>CUSIP</th>\n",
       "      <th>ISIN</th>\n",
       "      <th>SEDOL</th>\n",
       "      <th>Currency</th>\n",
       "      <th>Exchange</th>\n",
       "      <th>Symbol</th>\n",
       "      <th>Name</th>\n",
       "      <th>ShortName</th>\n",
       "      <th>Prefix</th>\n",
       "      <th>Suffix</th>\n",
       "      <th>InstrumentClass</th>\n",
       "      <th>CFICode</th>\n",
       "      <th>CountryName</th>\n",
       "      <th>CountryCode</th>\n",
       "      <th>CategoryName</th>\n",
       "      <th>ClassificationName</th>\n",
       "      <th>AllocationPercentage</th>\n",
       "      <th>LastModified</th>\n",
       "    </tr>\n",
       "  </thead>\n",
       "  <tbody>\n",
       "    <tr>\n",
       "      <td>0</td>\n",
       "      <td>91020180700</td>\n",
       "      <td>998291</td>\n",
       "      <td>Z69303206</td>\n",
       "      <td>XC0009695252</td>\n",
       "      <td>NaN</td>\n",
       "      <td>CAD</td>\n",
       "      <td>XTSE</td>\n",
       "      <td>0000</td>\n",
       "      <td>S&amp;P Indices S&amp;P/TSX Composite Index</td>\n",
       "      <td>S&amp;P/TSX Composite</td>\n",
       "      <td>S&amp;P/TSX Composite Index</td>\n",
       "      <td>NaN</td>\n",
       "      <td>Indices</td>\n",
       "      <td>MRIXXX</td>\n",
       "      <td>United States</td>\n",
       "      <td>US</td>\n",
       "      <td>Sector</td>\n",
       "      <td>Unknown</td>\n",
       "      <td>100.0</td>\n",
       "      <td>41820181754</td>\n",
       "    </tr>\n",
       "    <tr>\n",
       "      <td>1</td>\n",
       "      <td>91020180700</td>\n",
       "      <td>1332658</td>\n",
       "      <td>003069101</td>\n",
       "      <td>CA0030691012</td>\n",
       "      <td>NaN</td>\n",
       "      <td>CAD</td>\n",
       "      <td>XTSE</td>\n",
       "      <td>AAB</td>\n",
       "      <td>Aberdeen International Inc</td>\n",
       "      <td>Aberdeen Intl Rg</td>\n",
       "      <td>Registered Shs</td>\n",
       "      <td>NaN</td>\n",
       "      <td>Stock</td>\n",
       "      <td>ESVUFR</td>\n",
       "      <td>Canada</td>\n",
       "      <td>CA</td>\n",
       "      <td>Asset class</td>\n",
       "      <td>Stock</td>\n",
       "      <td>100.0</td>\n",
       "      <td>11820180922</td>\n",
       "    </tr>\n",
       "    <tr>\n",
       "      <td>2</td>\n",
       "      <td>91020180700</td>\n",
       "      <td>1332658</td>\n",
       "      <td>003069101</td>\n",
       "      <td>CA0030691012</td>\n",
       "      <td>NaN</td>\n",
       "      <td>CAD</td>\n",
       "      <td>XTSE</td>\n",
       "      <td>AAB</td>\n",
       "      <td>Aberdeen International Inc</td>\n",
       "      <td>Aberdeen Intl Rg</td>\n",
       "      <td>Registered Shs</td>\n",
       "      <td>NaN</td>\n",
       "      <td>Stock</td>\n",
       "      <td>ESVUFR</td>\n",
       "      <td>Canada</td>\n",
       "      <td>CA</td>\n",
       "      <td>Sector</td>\n",
       "      <td>Miscellaneous</td>\n",
       "      <td>100.0</td>\n",
       "      <td>11820180922</td>\n",
       "    </tr>\n",
       "    <tr>\n",
       "      <td>3</td>\n",
       "      <td>91020180700</td>\n",
       "      <td>1332658</td>\n",
       "      <td>003069101</td>\n",
       "      <td>CA0030691012</td>\n",
       "      <td>NaN</td>\n",
       "      <td>CAD</td>\n",
       "      <td>XTSE</td>\n",
       "      <td>AAB</td>\n",
       "      <td>Aberdeen International Inc</td>\n",
       "      <td>Aberdeen Intl Rg</td>\n",
       "      <td>Registered Shs</td>\n",
       "      <td>NaN</td>\n",
       "      <td>Stock</td>\n",
       "      <td>ESVUFR</td>\n",
       "      <td>Canada</td>\n",
       "      <td>CA</td>\n",
       "      <td>Country</td>\n",
       "      <td>CA</td>\n",
       "      <td>100.0</td>\n",
       "      <td>11820180922</td>\n",
       "    </tr>\n",
       "    <tr>\n",
       "      <td>4</td>\n",
       "      <td>91020180700</td>\n",
       "      <td>1332658</td>\n",
       "      <td>003069101</td>\n",
       "      <td>CA0030691012</td>\n",
       "      <td>NaN</td>\n",
       "      <td>CAD</td>\n",
       "      <td>XTSE</td>\n",
       "      <td>AAB</td>\n",
       "      <td>Aberdeen International Inc</td>\n",
       "      <td>Aberdeen Intl Rg</td>\n",
       "      <td>Registered Shs</td>\n",
       "      <td>NaN</td>\n",
       "      <td>Stock</td>\n",
       "      <td>ESVUFR</td>\n",
       "      <td>Canada</td>\n",
       "      <td>CA</td>\n",
       "      <td>Style</td>\n",
       "      <td>High Risk Low Reward</td>\n",
       "      <td>100.0</td>\n",
       "      <td>11820180922</td>\n",
       "    </tr>\n",
       "  </tbody>\n",
       "</table>\n",
       "</div>"
      ],
      "text/plain": [
       "      AsOfDate  Valoren      CUSIP          ISIN  SEDOL Currency Exchange  \\\n",
       "0  91020180700   998291  Z69303206  XC0009695252    NaN      CAD     XTSE   \n",
       "1  91020180700  1332658  003069101  CA0030691012    NaN      CAD     XTSE   \n",
       "2  91020180700  1332658  003069101  CA0030691012    NaN      CAD     XTSE   \n",
       "3  91020180700  1332658  003069101  CA0030691012    NaN      CAD     XTSE   \n",
       "4  91020180700  1332658  003069101  CA0030691012    NaN      CAD     XTSE   \n",
       "\n",
       "  Symbol                                 Name          ShortName  \\\n",
       "0   0000  S&P Indices S&P/TSX Composite Index  S&P/TSX Composite   \n",
       "1    AAB           Aberdeen International Inc   Aberdeen Intl Rg   \n",
       "2    AAB           Aberdeen International Inc   Aberdeen Intl Rg   \n",
       "3    AAB           Aberdeen International Inc   Aberdeen Intl Rg   \n",
       "4    AAB           Aberdeen International Inc   Aberdeen Intl Rg   \n",
       "\n",
       "                    Prefix Suffix InstrumentClass CFICode    CountryName  \\\n",
       "0  S&P/TSX Composite Index    NaN         Indices  MRIXXX  United States   \n",
       "1           Registered Shs    NaN           Stock  ESVUFR         Canada   \n",
       "2           Registered Shs    NaN           Stock  ESVUFR         Canada   \n",
       "3           Registered Shs    NaN           Stock  ESVUFR         Canada   \n",
       "4           Registered Shs    NaN           Stock  ESVUFR         Canada   \n",
       "\n",
       "  CountryCode CategoryName    ClassificationName  AllocationPercentage  \\\n",
       "0          US       Sector               Unknown                 100.0   \n",
       "1          CA  Asset class                 Stock                 100.0   \n",
       "2          CA       Sector         Miscellaneous                 100.0   \n",
       "3          CA      Country                    CA                 100.0   \n",
       "4          CA        Style  High Risk Low Reward                 100.0   \n",
       "\n",
       "   LastModified  \n",
       "0   41820181754  \n",
       "1   11820180922  \n",
       "2   11820180922  \n",
       "3   11820180922  \n",
       "4   11820180922  "
      ]
     },
     "execution_count": 4,
     "metadata": {},
     "output_type": "execute_result"
    }
   ],
   "source": [
    "#asset allocation data\n",
    "import glob\n",
    "\n",
    "file_list = glob.glob('./datafiles/XigniteAssetClassification/Classification_*.csv')\n",
    "file_list\n",
    "\n",
    "df_list = []\n",
    "for i in file_list:\n",
    "    df = pd.read_csv(i, sep='|')\n",
    "    df_list.append(df)\n",
    "\n",
    "pdsecac = pd.concat(df_list)\n",
    "\n",
    "pdsecac.drop_duplicates(inplace=True)\n",
    "print (pdsecac.info())\n",
    "pdsecac.head()"
   ]
  },
  {
   "cell_type": "code",
   "execution_count": 6,
   "metadata": {},
   "outputs": [
    {
     "data": {
      "text/plain": [
       "array(['Stock', 'Bond', 'Derivative', 'DepositoryReceipt', 'US stocks',\n",
       "       nan, 'Non-US stocks', 'Cash', 'US bonds', 'Non-US bonds',\n",
       "       'Preferred stocks', 'Convertible', 'Other'], dtype=object)"
      ]
     },
     "execution_count": 6,
     "metadata": {},
     "output_type": "execute_result"
    }
   ],
   "source": [
    "pdsecac.ClassificationName[pdsecac.CategoryName=='Asset class'].unique()"
   ]
  },
  {
   "cell_type": "code",
   "execution_count": 11,
   "metadata": {},
   "outputs": [],
   "source": [
    "#rename Stock to US stocks and Bond to US bonds\n",
    "pdsecac.ClassificationName = pdsecac.ClassificationName.str.replace('Stock','US stocks')\n",
    "pdsecac.ClassificationName = pdsecac.ClassificationName.str.replace('Bond','US bonds')"
   ]
  },
  {
   "cell_type": "code",
   "execution_count": 12,
   "metadata": {},
   "outputs": [
    {
     "name": "stdout",
     "output_type": "stream",
     "text": [
      "<class 'pandas.core.frame.DataFrame'>\n",
      "RangeIndex: 180186 entries, 0 to 180185\n",
      "Data columns (total 13 columns):\n",
      "Symbol               180186 non-null object\n",
      "Exchange             180186 non-null object\n",
      "CUSIP                180186 non-null object\n",
      "Cash                 29458 non-null float64\n",
      "Convertible          8460 non-null float64\n",
      "DepositoryReceipt    3625 non-null float64\n",
      "Derivative           45312 non-null float64\n",
      "Non-US bonds         13056 non-null float64\n",
      "Non-US stocks        21285 non-null float64\n",
      "Other                15519 non-null float64\n",
      "Preferred stocks     8302 non-null float64\n",
      "US bonds             76420 non-null float64\n",
      "US stocks            63311 non-null float64\n",
      "dtypes: float64(10), object(3)\n",
      "memory usage: 17.9+ MB\n"
     ]
    }
   ],
   "source": [
    "#pivot the asset class data to make it tidy\n",
    "subasset = pdsecac[pdsecac.CategoryName.isin(['Asset class'])]\n",
    "pdsecac_pivot = subasset.pivot_table(\n",
    "        index=['Symbol','Exchange','CUSIP'], \n",
    "         columns='ClassificationName', \n",
    "         values='AllocationPercentage',\n",
    "         aggfunc='first'\n",
    ").reset_index()\n",
    "\n",
    "pdsecac_pivot.info()"
   ]
  },
  {
   "cell_type": "code",
   "execution_count": 13,
   "metadata": {},
   "outputs": [],
   "source": [
    "#fill missing asset allocation values with 0\n",
    "pdsecac_pivot = pdsecac_pivot.fillna(0)"
   ]
  },
  {
   "cell_type": "code",
   "execution_count": 14,
   "metadata": {},
   "outputs": [
    {
     "data": {
      "text/html": [
       "<div>\n",
       "<style scoped>\n",
       "    .dataframe tbody tr th:only-of-type {\n",
       "        vertical-align: middle;\n",
       "    }\n",
       "\n",
       "    .dataframe tbody tr th {\n",
       "        vertical-align: top;\n",
       "    }\n",
       "\n",
       "    .dataframe thead th {\n",
       "        text-align: right;\n",
       "    }\n",
       "</style>\n",
       "<table border=\"1\" class=\"dataframe\">\n",
       "  <thead>\n",
       "    <tr style=\"text-align: right;\">\n",
       "      <th>ClassificationName</th>\n",
       "      <th>Symbol</th>\n",
       "      <th>Exchange</th>\n",
       "      <th>CUSIP</th>\n",
       "      <th>Cash</th>\n",
       "      <th>Convertible</th>\n",
       "      <th>DepositoryReceipt</th>\n",
       "      <th>Derivative</th>\n",
       "      <th>Non-US bonds</th>\n",
       "      <th>Non-US stocks</th>\n",
       "      <th>Other</th>\n",
       "      <th>Preferred stocks</th>\n",
       "      <th>US bonds</th>\n",
       "      <th>US stocks</th>\n",
       "    </tr>\n",
       "  </thead>\n",
       "  <tbody>\n",
       "    <tr>\n",
       "      <td>0</td>\n",
       "      <td>01HL</td>\n",
       "      <td>XLON</td>\n",
       "      <td>G5775RAA3</td>\n",
       "      <td>0.0</td>\n",
       "      <td>0.0</td>\n",
       "      <td>0.0</td>\n",
       "      <td>0.0</td>\n",
       "      <td>0.0</td>\n",
       "      <td>0.0</td>\n",
       "      <td>0.0</td>\n",
       "      <td>0.0</td>\n",
       "      <td>100.0</td>\n",
       "      <td>0.0</td>\n",
       "    </tr>\n",
       "    <tr>\n",
       "      <td>1</td>\n",
       "      <td>01KG</td>\n",
       "      <td>XLON</td>\n",
       "      <td>G78834AC5</td>\n",
       "      <td>0.0</td>\n",
       "      <td>0.0</td>\n",
       "      <td>0.0</td>\n",
       "      <td>0.0</td>\n",
       "      <td>0.0</td>\n",
       "      <td>0.0</td>\n",
       "      <td>0.0</td>\n",
       "      <td>0.0</td>\n",
       "      <td>100.0</td>\n",
       "      <td>0.0</td>\n",
       "    </tr>\n",
       "    <tr>\n",
       "      <td>2</td>\n",
       "      <td>01LQ</td>\n",
       "      <td>XLON</td>\n",
       "      <td>G7932EAR1</td>\n",
       "      <td>0.0</td>\n",
       "      <td>0.0</td>\n",
       "      <td>0.0</td>\n",
       "      <td>0.0</td>\n",
       "      <td>0.0</td>\n",
       "      <td>0.0</td>\n",
       "      <td>0.0</td>\n",
       "      <td>0.0</td>\n",
       "      <td>100.0</td>\n",
       "      <td>0.0</td>\n",
       "    </tr>\n",
       "    <tr>\n",
       "      <td>3</td>\n",
       "      <td>01NL</td>\n",
       "      <td>XLON</td>\n",
       "      <td>G92450DJ4</td>\n",
       "      <td>0.0</td>\n",
       "      <td>0.0</td>\n",
       "      <td>0.0</td>\n",
       "      <td>0.0</td>\n",
       "      <td>0.0</td>\n",
       "      <td>0.0</td>\n",
       "      <td>0.0</td>\n",
       "      <td>0.0</td>\n",
       "      <td>100.0</td>\n",
       "      <td>0.0</td>\n",
       "    </tr>\n",
       "    <tr>\n",
       "      <td>4</td>\n",
       "      <td>01NN</td>\n",
       "      <td>XLON</td>\n",
       "      <td>G87534AF3</td>\n",
       "      <td>0.0</td>\n",
       "      <td>0.0</td>\n",
       "      <td>0.0</td>\n",
       "      <td>0.0</td>\n",
       "      <td>0.0</td>\n",
       "      <td>0.0</td>\n",
       "      <td>0.0</td>\n",
       "      <td>0.0</td>\n",
       "      <td>100.0</td>\n",
       "      <td>0.0</td>\n",
       "    </tr>\n",
       "  </tbody>\n",
       "</table>\n",
       "</div>"
      ],
      "text/plain": [
       "ClassificationName Symbol Exchange      CUSIP  Cash  Convertible  \\\n",
       "0                    01HL     XLON  G5775RAA3   0.0          0.0   \n",
       "1                    01KG     XLON  G78834AC5   0.0          0.0   \n",
       "2                    01LQ     XLON  G7932EAR1   0.0          0.0   \n",
       "3                    01NL     XLON  G92450DJ4   0.0          0.0   \n",
       "4                    01NN     XLON  G87534AF3   0.0          0.0   \n",
       "\n",
       "ClassificationName  DepositoryReceipt  Derivative  Non-US bonds  \\\n",
       "0                                 0.0         0.0           0.0   \n",
       "1                                 0.0         0.0           0.0   \n",
       "2                                 0.0         0.0           0.0   \n",
       "3                                 0.0         0.0           0.0   \n",
       "4                                 0.0         0.0           0.0   \n",
       "\n",
       "ClassificationName  Non-US stocks  Other  Preferred stocks  US bonds  \\\n",
       "0                             0.0    0.0               0.0     100.0   \n",
       "1                             0.0    0.0               0.0     100.0   \n",
       "2                             0.0    0.0               0.0     100.0   \n",
       "3                             0.0    0.0               0.0     100.0   \n",
       "4                             0.0    0.0               0.0     100.0   \n",
       "\n",
       "ClassificationName  US stocks  \n",
       "0                         0.0  \n",
       "1                         0.0  \n",
       "2                         0.0  \n",
       "3                         0.0  \n",
       "4                         0.0  "
      ]
     },
     "execution_count": 14,
     "metadata": {},
     "output_type": "execute_result"
    }
   ],
   "source": [
    "pdsecac_pivot.head()"
   ]
  },
  {
   "cell_type": "code",
   "execution_count": 15,
   "metadata": {},
   "outputs": [
    {
     "name": "stdout",
     "output_type": "stream",
     "text": [
      "<class 'pandas.core.frame.DataFrame'>\n",
      "Int64Index: 32993 entries, 3363 to 182454\n",
      "Data columns (total 14 columns):\n",
      "Symbol               32993 non-null object\n",
      "Exchange             32993 non-null object\n",
      "CUSIP                32993 non-null object\n",
      "Cash                 32993 non-null float64\n",
      "Convertible          32993 non-null float64\n",
      "DepositoryReceipt    32993 non-null float64\n",
      "Derivative           32993 non-null float64\n",
      "Non-US bonds         32993 non-null float64\n",
      "Non-US stocks        32993 non-null float64\n",
      "Other                32993 non-null float64\n",
      "Preferred stocks     32993 non-null float64\n",
      "US bonds             32993 non-null float64\n",
      "US stocks            32993 non-null float64\n",
      "CategoryName         32993 non-null object\n",
      "dtypes: float64(10), object(4)\n",
      "memory usage: 3.8+ MB\n"
     ]
    }
   ],
   "source": [
    "#merge the category data with the asset classification data on Symbol\n",
    "subms = pd.merge(pdsecac_pivot, ms[['Symbol','CategoryName']], how='left', on=['Symbol'])\n",
    "#remove null and blank CategoryName rows\n",
    "subms = subms[subms.CategoryName.isnull()==False] \n",
    "subms = subms[subms.CategoryName != ' '] \n",
    "subms.info()"
   ]
  },
  {
   "cell_type": "code",
   "execution_count": 17,
   "metadata": {},
   "outputs": [
    {
     "name": "stdout",
     "output_type": "stream",
     "text": [
      "<class 'pandas.core.frame.DataFrame'>\n",
      "Int64Index: 24939 entries, 17241 to 182454\n",
      "Data columns (total 14 columns):\n",
      "Symbol               24939 non-null object\n",
      "Exchange             24939 non-null object\n",
      "CUSIP                24939 non-null object\n",
      "Cash                 24939 non-null float64\n",
      "Convertible          24939 non-null float64\n",
      "DepositoryReceipt    24939 non-null float64\n",
      "Derivative           24939 non-null float64\n",
      "Non-US bonds         24939 non-null float64\n",
      "Non-US stocks        24939 non-null float64\n",
      "Other                24939 non-null float64\n",
      "Preferred stocks     24939 non-null float64\n",
      "US bonds             24939 non-null float64\n",
      "US stocks            24939 non-null float64\n",
      "CategoryName         24939 non-null object\n",
      "dtypes: float64(10), object(4)\n",
      "memory usage: 2.9+ MB\n"
     ]
    }
   ],
   "source": [
    "#only use categories which have over 200 or more rows of for each category\n",
    "num = list(subms.CategoryName.unique())\n",
    "catnamlist = [x for x in num if (len(subms[subms.CategoryName==x]) > 200)]\n",
    "catnamlist.remove('Other')\n",
    "subms = subms[subms.CategoryName.isin(catnamlist)]\n",
    "subms.info()"
   ]
  },
  {
   "cell_type": "code",
   "execution_count": 20,
   "metadata": {},
   "outputs": [
    {
     "name": "stdout",
     "output_type": "stream",
     "text": [
      "<class 'pandas.core.frame.DataFrame'>\n",
      "Int64Index: 10800 entries, 109416 to 167958\n",
      "Data columns (total 14 columns):\n",
      "Symbol               10800 non-null object\n",
      "Exchange             10800 non-null object\n",
      "CUSIP                10800 non-null object\n",
      "Cash                 10800 non-null float64\n",
      "Convertible          10800 non-null float64\n",
      "DepositoryReceipt    10800 non-null float64\n",
      "Derivative           10800 non-null float64\n",
      "Non-US bonds         10800 non-null float64\n",
      "Non-US stocks        10800 non-null float64\n",
      "Other                10800 non-null float64\n",
      "Preferred stocks     10800 non-null float64\n",
      "US bonds             10800 non-null float64\n",
      "US stocks            10800 non-null float64\n",
      "CategoryName         10800 non-null object\n",
      "dtypes: float64(10), object(4)\n",
      "memory usage: 1.2+ MB\n"
     ]
    }
   ],
   "source": [
    "#to have a balanced weighting of each category represented, we sample 200 entries from each category\n",
    "samdf = pd.DataFrame()\n",
    "for i in catnamlist:\n",
    "    newdf = subms[subms.CategoryName==i].sample(n=200,replace=False)\n",
    "    samdf = samdf.append(newdf)\n",
    "samdf.info()"
   ]
  },
  {
   "cell_type": "code",
   "execution_count": 51,
   "metadata": {},
   "outputs": [
    {
     "data": {
      "text/plain": [
       "array(['World Allocation', 'Large Blend', 'Large Growth',\n",
       "       'Allocation--70% to 85% Equity', 'Tactical Allocation',\n",
       "       'Allocation--50% to 70% Equity', 'Allocation--30% to 50% Equity',\n",
       "       'Intermediate-Term Bond', 'Mid-Cap Value', 'Target-Date 2020',\n",
       "       'Large Value', 'Mid-Cap Blend', 'Foreign Large Growth',\n",
       "       'Target-Date 2025', 'Diversified Emerging Mkts',\n",
       "       'Multisector Bond', 'Foreign Large Value', 'Target-Date 2030',\n",
       "       'Target-Date 2035', 'Target-Date 2040', 'High Yield Muni',\n",
       "       'Target-Date 2045', 'Nontraditional Bond', 'World Large Stock',\n",
       "       'Target-Date 2050', 'Muni National Long', 'Mid-Cap Growth',\n",
       "       'Small Growth', 'Target-Date 2055', 'Target-Date 2060+',\n",
       "       'Multialternative', 'Small Value', 'Short-Term Bond',\n",
       "       'Small Blend', 'Muni National Short',\n",
       "       'Allocation--15% to 30% Equity', 'Muni National Interm',\n",
       "       'High Yield Bond', 'Intermediate Government',\n",
       "       'Emerging Markets Bond', 'Inflation-Protected Bond',\n",
       "       'Long-Short Equity', 'Foreign Large Blend', 'Corporate Bond',\n",
       "       'Bank Loan', 'Technology', 'Global Real Estate', 'World Bond',\n",
       "       'Real Estate', 'Energy Limited Partnership', 'Ultrashort Bond',\n",
       "       'Options-based', 'Muni Single State Long',\n",
       "       'Trading--Leveraged Equity'], dtype=object)"
      ]
     },
     "execution_count": 51,
     "metadata": {},
     "output_type": "execute_result"
    }
   ],
   "source": [
    "#list the CategoryName\n",
    "samdf.CategoryName.unique()"
   ]
  },
  {
   "cell_type": "code",
   "execution_count": 52,
   "metadata": {},
   "outputs": [
    {
     "name": "stdout",
     "output_type": "stream",
     "text": [
      "100.00005000000002\n",
      "Cash                  6.79135\n",
      "Convertible           0.20365\n",
      "DepositoryReceipt     0.00000\n",
      "Derivative            0.00000\n",
      "Non-US bonds          6.38365\n",
      "Non-US stocks        15.24390\n",
      "Other                 1.85350\n",
      "Preferred stocks      0.16280\n",
      "US bonds             40.77850\n",
      "US stocks            28.58270\n",
      "dtype: float64\n"
     ]
    },
    {
     "data": {
      "image/png": "[encoded data removed]",
      "text/plain": [
       "<Figure size 432x288 with 1 Axes>"
      ]
     },
     "metadata": {},
     "output_type": "display_data"
    }
   ],
   "source": [
    "#visualize the mean asset breakdown of a 'Target-Date 2020' category\n",
    "import matplotlib.pyplot as plt\n",
    "realest = samdf[samdf.CategoryName=='Target-Date 2020']\n",
    "print (realest.mean(axis=0).sum())\n",
    "print (realest.mean(axis=0))\n",
    "realest.mean(axis=0).plot(kind='pie')\n",
    "plt.ylabel('')\n",
    "plt.show()"
   ]
  },
  {
   "cell_type": "code",
   "execution_count": 53,
   "metadata": {},
   "outputs": [
    {
     "name": "stdout",
     "output_type": "stream",
     "text": [
      "99.99909999999997\n",
      "Cash                  3.72085\n",
      "Convertible           0.09300\n",
      "DepositoryReceipt     0.00000\n",
      "Derivative            0.00000\n",
      "Non-US bonds          1.80150\n",
      "Non-US stocks        30.61240\n",
      "Other                 1.48800\n",
      "Preferred stocks      0.11730\n",
      "US bonds              9.37995\n",
      "US stocks            52.78610\n",
      "dtype: float64\n"
     ]
    },
    {
     "data": {
      "image/png": "[encoded data removed]",
      "text/plain": [
       "<Figure size 432x288 with 1 Axes>"
      ]
     },
     "metadata": {},
     "output_type": "display_data"
    }
   ],
   "source": [
    "#visualize the mean asset breakdown of a 'Target-Date 2050' category\n",
    "realest = samdf[samdf.CategoryName=='Target-Date 2050']\n",
    "print (realest.mean(axis=0).sum())\n",
    "print (realest.mean(axis=0))\n",
    "realest.mean(axis=0).plot(kind='pie')\n",
    "plt.ylabel('')\n",
    "plt.show()"
   ]
  },
  {
   "cell_type": "code",
   "execution_count": 54,
   "metadata": {},
   "outputs": [
    {
     "data": {
      "image/png": "[encoded data removed]",
      "text/plain": [
       "<Figure size 432x288 with 1 Axes>"
      ]
     },
     "metadata": {
      "needs_background": "light"
     },
     "output_type": "display_data"
    }
   ],
   "source": [
    "#look for any outliers in the 'Target-Date 2020' Category\n",
    "samdf[samdf.CategoryName=='Target-Date 2020'].plot(kind='box')\n",
    "plt.xlabel('Asset Class')\n",
    "plt.xticks(rotation=90)\n",
    "plt.show()"
   ]
  },
  {
   "cell_type": "code",
   "execution_count": 55,
   "metadata": {},
   "outputs": [],
   "source": [
    "#separate the features and the target\n",
    "features = samdf.drop(columns=['CategoryName','Symbol','Exchange','CUSIP'])\n",
    "target = samdf.CategoryName"
   ]
  },
  {
   "cell_type": "code",
   "execution_count": 56,
   "metadata": {},
   "outputs": [],
   "source": [
    "#create training and validation data\n",
    "from sklearn.model_selection import cross_val_score\n",
    "from sklearn.model_selection import train_test_split\n",
    "X_train, X_test, y_train, y_test = train_test_split(features, target, test_size=.15)"
   ]
  },
  {
   "cell_type": "code",
   "execution_count": 57,
   "metadata": {},
   "outputs": [],
   "source": [
    "#scale the data\n",
    "from sklearn.preprocessing import StandardScaler\n",
    "stan = StandardScaler()\n",
    "X_train= stan.fit_transform(X_train)\n",
    "X_train = pd.DataFrame(X_train,columns=features.columns)\n",
    "\n",
    "X_test = stan.transform(X_test)\n",
    "X_test = pd.DataFrame(X_test,columns=features.columns)"
   ]
  },
  {
   "cell_type": "code",
   "execution_count": 58,
   "metadata": {},
   "outputs": [
    {
     "name": "stdout",
     "output_type": "stream",
     "text": [
      "0.7605129393081771\n"
     ]
    }
   ],
   "source": [
    "#test decision tree model\n",
    "x = X_train\n",
    "y = y_train\n",
    "\n",
    "from sklearn.tree import DecisionTreeClassifier\n",
    "clf = DecisionTreeClassifier()\n",
    "print (cross_val_score(clf,x,y,cv=10).mean())"
   ]
  },
  {
   "cell_type": "code",
   "execution_count": 59,
   "metadata": {},
   "outputs": [
    {
     "name": "stdout",
     "output_type": "stream",
     "text": [
      "0.7665231157039225\n"
     ]
    }
   ],
   "source": [
    "#test random forest model\n",
    "x = X_train\n",
    "y = y_train\n",
    "\n",
    "from sklearn.ensemble import RandomForestClassifier\n",
    "clf = RandomForestClassifier()\n",
    "print (cross_val_score(clf,x,y,cv=10).mean())"
   ]
  },
  {
   "cell_type": "code",
   "execution_count": 60,
   "metadata": {},
   "outputs": [
    {
     "name": "stdout",
     "output_type": "stream",
     "text": [
      "0.1813203804180195\n"
     ]
    }
   ],
   "source": [
    "#test naive bayes model\n",
    "x = X_train\n",
    "y = y_train\n",
    "\n",
    "from sklearn.naive_bayes import MultinomialNB, BernoulliNB\n",
    "clf = BernoulliNB()\n",
    "print (cross_val_score(clf,x,y,cv=10).mean())"
   ]
  },
  {
   "cell_type": "code",
   "execution_count": 61,
   "metadata": {},
   "outputs": [
    {
     "name": "stdout",
     "output_type": "stream",
     "text": [
      "0.7593966302228531\n"
     ]
    }
   ],
   "source": [
    "#test Kneighbors model\n",
    "x = X_train\n",
    "y = y_train\n",
    "\n",
    "from sklearn.neighbors import KNeighborsClassifier\n",
    "kn = KNeighborsClassifier(1)\n",
    "print (cross_val_score(kn,x,y,cv=10).mean())"
   ]
  },
  {
   "cell_type": "code",
   "execution_count": 62,
   "metadata": {},
   "outputs": [
    {
     "name": "stdout",
     "output_type": "stream",
     "text": [
      "0.7796296296296297\n",
      "{'clf__max_depth': 45}\n"
     ]
    }
   ],
   "source": [
    "#Tune RandomforestModel\n",
    "from sklearn.pipeline import Pipeline\n",
    "\n",
    "text_clf = Pipeline([('clf', RandomForestClassifier(random_state=0)) ])\n",
    "fit_pipe = text_clf.fit(X_train,y_train)\n",
    "\n",
    "from sklearn.model_selection import GridSearchCV\n",
    "\n",
    "parameters = {\n",
    "             'clf__max_depth':range(5,100,5),\n",
    "             #'clf__max_leaf_nodes':range(2,100,1),\n",
    "             }\n",
    "\n",
    "gs_clf = GridSearchCV(text_clf, parameters, n_jobs=1)\n",
    "gs_clf.fit(X_train,y_train)\n",
    "fit_grid = gs_clf.fit(X_train,y_train)\n",
    "print (fit_grid.score(X_test,y_test)) \n",
    "print (fit_grid.best_params_)\n",
    "bparam = fit_grid.best_params_"
   ]
  },
  {
   "cell_type": "code",
   "execution_count": 63,
   "metadata": {},
   "outputs": [
    {
     "data": {
      "text/plain": [
       "0.7870370370370371"
      ]
     },
     "execution_count": 63,
     "metadata": {},
     "output_type": "execute_result"
    }
   ],
   "source": [
    "#create new model with tuned parameters\n",
    "clf = RandomForestClassifier(max_depth=bparam['clf__max_depth']).fit(X_train,y_train)\n",
    "clf.score(X_test,y_test)"
   ]
  },
  {
   "cell_type": "code",
   "execution_count": 64,
   "metadata": {},
   "outputs": [
    {
     "name": "stdout",
     "output_type": "stream",
     "text": [
      "                               precision    recall  f1-score   support\n",
      "\n",
      "Allocation--15% to 30% Equity       0.89      0.91      0.90        35\n",
      "Allocation--30% to 50% Equity       0.96      0.90      0.93        30\n",
      "Allocation--50% to 70% Equity       0.79      0.82      0.81        28\n",
      "Allocation--70% to 85% Equity       0.83      0.93      0.88        27\n",
      "                    Bank Loan       0.83      0.65      0.73        23\n",
      "               Corporate Bond       0.83      0.91      0.87        33\n",
      "    Diversified Emerging Mkts       0.58      0.75      0.65        20\n",
      "        Emerging Markets Bond       0.91      1.00      0.95        31\n",
      "   Energy Limited Partnership       0.35      0.91      0.51        23\n",
      "          Foreign Large Blend       0.76      0.73      0.75        30\n",
      "         Foreign Large Growth       0.87      0.90      0.89        30\n",
      "          Foreign Large Value       0.86      0.68      0.76        28\n",
      "           Global Real Estate       0.97      0.88      0.92        32\n",
      "              High Yield Bond       0.85      0.73      0.79        30\n",
      "              High Yield Muni       0.93      0.80      0.86        35\n",
      "     Inflation-Protected Bond       0.96      0.69      0.80        32\n",
      "      Intermediate Government       0.78      0.78      0.78        23\n",
      "       Intermediate-Term Bond       0.79      0.73      0.76        30\n",
      "                  Large Blend       0.45      0.47      0.46        30\n",
      "                 Large Growth       0.41      0.38      0.39        32\n",
      "                  Large Value       0.62      0.47      0.53        34\n",
      "            Long-Short Equity       0.75      0.75      0.75        24\n",
      "                Mid-Cap Blend       0.74      0.65      0.69        43\n",
      "               Mid-Cap Growth       0.53      0.61      0.57        28\n",
      "                Mid-Cap Value       0.59      0.68      0.63        34\n",
      "             Multialternative       0.87      0.75      0.81        36\n",
      "             Multisector Bond       0.88      0.83      0.85        35\n",
      "         Muni National Interm       0.53      0.84      0.65        19\n",
      "           Muni National Long       0.63      0.76      0.69        29\n",
      "          Muni National Short       0.92      0.88      0.90        25\n",
      "       Muni Single State Long       0.92      0.94      0.93        35\n",
      "          Nontraditional Bond       0.93      0.90      0.91        29\n",
      "                Options-based       0.74      0.54      0.62        37\n",
      "                  Real Estate       0.71      0.83      0.77        30\n",
      "              Short-Term Bond       0.85      0.85      0.85        26\n",
      "                  Small Blend       0.54      0.48      0.51        29\n",
      "                 Small Growth       0.67      0.50      0.57        28\n",
      "                  Small Value       0.52      0.61      0.56        18\n",
      "          Tactical Allocation       0.78      0.71      0.75        35\n",
      "             Target-Date 2020       0.80      1.00      0.89        35\n",
      "             Target-Date 2025       0.79      0.84      0.82        37\n",
      "             Target-Date 2030       0.97      0.97      0.97        29\n",
      "             Target-Date 2035       0.97      0.88      0.92        34\n",
      "             Target-Date 2040       0.96      0.96      0.96        26\n",
      "             Target-Date 2045       0.93      1.00      0.96        27\n",
      "             Target-Date 2050       0.96      0.96      0.96        27\n",
      "             Target-Date 2055       0.94      0.91      0.93        35\n",
      "            Target-Date 2060+       0.89      0.94      0.92        18\n",
      "                   Technology       0.85      0.74      0.79        31\n",
      "    Trading--Leveraged Equity       0.82      0.88      0.85        32\n",
      "              Ultrashort Bond       0.97      0.85      0.90        33\n",
      "             World Allocation       0.93      0.71      0.81        35\n",
      "                   World Bond       0.94      0.89      0.91        36\n",
      "            World Large Stock       0.93      0.93      0.93        29\n",
      "\n",
      "                     accuracy                           0.79      1620\n",
      "                    macro avg       0.80      0.79      0.79      1620\n",
      "                 weighted avg       0.80      0.79      0.79      1620\n",
      "\n"
     ]
    }
   ],
   "source": [
    "#check classification report on tuned model\n",
    "from sklearn.metrics import classification_report,confusion_matrix\n",
    "predicted = clf.predict(X_test)\n",
    "print (classification_report(y_test,predicted))\n",
    "cr = (classification_report(y_test,predicted,output_dict=True))\n",
    "dfcr = pd.DataFrame(cr).transpose()"
   ]
  },
  {
   "cell_type": "code",
   "execution_count": 65,
   "metadata": {},
   "outputs": [],
   "source": [
    "#scale and fit the model with all the data\n",
    "stan_features = stan.transform(features)\n",
    "clf=RandomForestClassifier(max_depth=40).fit(stan_features,target)"
   ]
  },
  {
   "cell_type": "code",
   "execution_count": 66,
   "metadata": {},
   "outputs": [],
   "source": [
    "#save the model and the standard scalar to files\n",
    "import pickle\n",
    "with open('modeliden.pkl', 'wb') as fid:\n",
    "    pickle.dump(clf, fid,2) \n",
    "    \n",
    "with open('stan.pkl', 'wb') as fid:\n",
    "    pickle.dump(stan, fid,2)     \n",
    "    "
   ]
  },
  {
   "cell_type": "code",
   "execution_count": 67,
   "metadata": {},
   "outputs": [
    {
     "name": "stdout",
     "output_type": "stream",
     "text": [
      "['Multialternative']\n",
      "[1.]\n"
     ]
    }
   ],
   "source": [
    "#[[cash_api,convertible_api,depreceipt_api,derevative_api,nonusbond_api,nonusstock_api,other_api,prefstock_api,usbond_api,usstock_api]]\n",
    "test1 = [[-600,    0.  ,    0.  ,    0.  ,    0.  ,    0.  ,  700,\n",
    "           0.  ,    0.  ,    0.  ]]\n",
    "test1 = stan.transform(test1)\n",
    "print (clf.predict(test1))\n",
    "print (clf.predict_proba(test1).max(axis=1))"
   ]
  },
  {
   "cell_type": "code",
   "execution_count": 68,
   "metadata": {
    "scrolled": true
   },
   "outputs": [
    {
     "data": {
      "text/html": [
       "<div>\n",
       "<style scoped>\n",
       "    .dataframe tbody tr th:only-of-type {\n",
       "        vertical-align: middle;\n",
       "    }\n",
       "\n",
       "    .dataframe tbody tr th {\n",
       "        vertical-align: top;\n",
       "    }\n",
       "\n",
       "    .dataframe thead th {\n",
       "        text-align: right;\n",
       "    }\n",
       "</style>\n",
       "<table border=\"1\" class=\"dataframe\">\n",
       "  <thead>\n",
       "    <tr style=\"text-align: right;\">\n",
       "      <th></th>\n",
       "      <th>Category</th>\n",
       "      <th>Confidence</th>\n",
       "    </tr>\n",
       "  </thead>\n",
       "  <tbody>\n",
       "    <tr>\n",
       "      <td>25</td>\n",
       "      <td>Multialternative</td>\n",
       "      <td>100.0</td>\n",
       "    </tr>\n",
       "    <tr>\n",
       "      <td>0</td>\n",
       "      <td>Allocation--15% to 30% Equity</td>\n",
       "      <td>0.0</td>\n",
       "    </tr>\n",
       "    <tr>\n",
       "      <td>40</td>\n",
       "      <td>Target-Date 2025</td>\n",
       "      <td>0.0</td>\n",
       "    </tr>\n",
       "    <tr>\n",
       "      <td>30</td>\n",
       "      <td>Muni Single State Long</td>\n",
       "      <td>0.0</td>\n",
       "    </tr>\n",
       "    <tr>\n",
       "      <td>31</td>\n",
       "      <td>Nontraditional Bond</td>\n",
       "      <td>0.0</td>\n",
       "    </tr>\n",
       "  </tbody>\n",
       "</table>\n",
       "</div>"
      ],
      "text/plain": [
       "                         Category  Confidence\n",
       "25               Multialternative       100.0\n",
       "0   Allocation--15% to 30% Equity         0.0\n",
       "40               Target-Date 2025         0.0\n",
       "30         Muni Single State Long         0.0\n",
       "31            Nontraditional Bond         0.0"
      ]
     },
     "execution_count": 68,
     "metadata": {},
     "output_type": "execute_result"
    }
   ],
   "source": [
    "test1 = [[-600,    0.  ,    0.  ,    0.  ,    0.  ,    0.  ,  700,\n",
    "           0.  ,    0.  ,    0.  ]]\n",
    "test1 = stan.transform(test1)\n",
    "#print (clf.predict(test1))\n",
    "prob =  (clf.predict_proba(test1)[0]*100)\n",
    "comb = list(zip(clf.classes_,prob))\n",
    "pd.DataFrame(comb,columns=['Category','Confidence']).sort_values('Confidence',ascending=False).head(5)"
   ]
  },
  {
   "cell_type": "markdown",
   "metadata": {},
   "source": [
    "#Saved Model is uploaded to Heroku\n",
    "https://modelcategory.herokuapp.com/"
   ]
  },
  {
   "cell_type": "code",
   "execution_count": null,
   "metadata": {},
   "outputs": [],
   "source": []
  }
 ],
 "metadata": {
  "kernelspec": {
   "display_name": "Python 3",
   "language": "python",
   "name": "python3"
  },
  "language_info": {
   "codemirror_mode": {
    "name": "ipython",
    "version": 3
   },
   "file_extension": ".py",
   "mimetype": "text/x-python",
   "name": "python",
   "nbconvert_exporter": "python",
   "pygments_lexer": "ipython3",
   "version": "3.6.9"
  }
 },
 "nbformat": 4,
 "nbformat_minor": 2
}
