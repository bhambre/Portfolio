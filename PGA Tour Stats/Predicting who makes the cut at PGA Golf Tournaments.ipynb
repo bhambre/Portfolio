{
 "cells": [
  {
   "cell_type": "code",
   "execution_count": 4,
   "metadata": {},
   "outputs": [],
   "source": [
    "import pandas as pd\n",
    "import numpy as np\n",
    "import matplotlib.pyplot as plt\n",
    "import re\n",
    "import warnings\n",
    "warnings.filterwarnings('ignore')"
   ]
  },
  {
   "cell_type": "code",
   "execution_count": 5,
   "metadata": {},
   "outputs": [],
   "source": [
    "from sklearn.metrics import roc_curve\n",
    "from sklearn.metrics import auc,confusion_matrix\n",
    "from bokeh.plotting import figure,show,output_notebook\n",
    "from bokeh.models import Range1d\n",
    "\n",
    "def plot_roc_curve(target_test, target_predicted_proba):\n",
    "    fpr, tpr, thresholds = roc_curve(target_test, target_predicted_proba[:, 1])\n",
    "    \n",
    "    roc_auc = auc(fpr, tpr) #area under curve\n",
    "    \n",
    "    p = figure(title='Receiver Operating Characteristic')\n",
    "    # Plot ROC curve\n",
    "    p.line(x=fpr,y=tpr,legend='ROC curve (area = %0.3f)' % roc_auc)\n",
    "    p.x_range=Range1d(0,1)\n",
    "    p.y_range=Range1d(0,1)\n",
    "    p.xaxis.axis_label='False Positive Rate or (1 - Specifity)'\n",
    "    p.yaxis.axis_label='True Positive Rate or (Sensitivity)'\n",
    "    p.legend.orientation = \"horizontal\"\n",
    "    show(p)"
   ]
  },
  {
   "cell_type": "code",
   "execution_count": 6,
   "metadata": {},
   "outputs": [],
   "source": [
    "#convert feet and inches to numerical value\n",
    "from __future__ import division\n",
    "\n",
    "def ftinconverter(df,column):\n",
    "    val = df[column]\n",
    "    \n",
    "    pattern1 = re.compile('^\\d*\\' \\d*\"$') #feet and inches\n",
    "    pattern2 = re.compile('^\\d*\\'$') #feet only\n",
    "    pattern3 = re.compile('^\\d*\"$') #inches only\n",
    "    \n",
    "    if bool(pattern1.match(val)):       \n",
    "        val = val.replace('\"','')\n",
    "        valsplit = val.split('\\'')\n",
    "        conval = int(valsplit[0]) + (float(valsplit[1]) / 12)\n",
    "    \n",
    "    elif bool(pattern2.match(val)):\n",
    "        val = val.replace('\\'','')\n",
    "        conval = int(val)\n",
    "    \n",
    "    elif bool(pattern3.match(val)):\n",
    "        val = val.replace('\"','')\n",
    "        conval = (float(val) / 12)\n",
    "        \n",
    "    else:\n",
    "        conval = val\n",
    "        \n",
    "    return conval\n",
    "        "
   ]
  },
  {
   "cell_type": "code",
   "execution_count": 7,
   "metadata": {},
   "outputs": [
    {
     "name": "stdout",
     "output_type": "stream",
     "text": [
      "<class 'pandas.core.frame.DataFrame'>\n",
      "Int64Index: 2840 entries, 2 to 21113\n",
      "Columns: 1378 entries, PlayerName to YTD Sub-Par Rounds Streak - (VALUE)\n",
      "dtypes: float64(1375), int64(1), object(2)\n",
      "memory usage: 29.9+ MB\n"
     ]
    }
   ],
   "source": [
    "#import historical PGA stats from pgatour.com\n",
    "pga_hist = pd.read_csv(\"pgahistdata.csv\")\n",
    "data19 = pd.read_csv(\"pga2019.csv\")\n",
    "data19['Season'] = 2019\n",
    "pga_hist = pd.concat([pga_hist,data19])\n",
    "\n",
    "pga_hist.Value = pga_hist.Value.str.replace(',','')\n",
    "pga_hist.Value = pga_hist.Value.str.replace('$','')\n",
    "pga_hist.Value = pga_hist.Value.str.replace('+','')\n",
    "pga_hist.Value = pga_hist.Value.str.replace('- ','-')\n",
    "pga_hist.Value = pga_hist.Value.str.replace('Under','')\n",
    "pga_hist.Value = pga_hist.Value.str.replace('E','')\n",
    "pga_hist.Value = pga_hist.Value.str.replace('T','')\n",
    "pga_hist.Value = pga_hist.Value.str.replace('ven','')\n",
    "pga_hist.Value = pga_hist.Value.str.replace('Over','')\n",
    "\n",
    "pga_hist.Value = pga_hist.apply(ftinconverter,axis=1,column='Value')\n",
    "\n",
    "pga_hist.dropna(axis=0, subset=['Value'], inplace=True) \n",
    "\n",
    "pga_hist[pga_hist.Category.isin(['Off the Tee','Approach the Green','Around the Green','Putting','Scoring'])]\n",
    "\n",
    "#pivot the data to make it tidy\n",
    "pga_hist = pga_hist.pivot_table(\n",
    "        index=['PlayerName', 'Season'], \n",
    "         columns='Variable', \n",
    "         values='Value',\n",
    "         aggfunc='first'\n",
    ").reset_index()\n",
    "\n",
    "\n",
    "pga_hist = pga_hist.apply(pd.to_numeric, errors='ignore')\n",
    "\n",
    "pga_hist = pga_hist[pga_hist['Driving Accuracy Percentage - (ROUNDS)']>0].copy()\n",
    "\n",
    "pga_hist.dropna(thresh=2500,axis=1,how=any,inplace=True)\n",
    "\n",
    "pga_hist.info()"
   ]
  },
  {
   "cell_type": "code",
   "execution_count": 8,
   "metadata": {},
   "outputs": [
    {
     "name": "stdout",
     "output_type": "stream",
     "text": [
      "Variable\n",
      "11-25 Final Round Performance - (% TIMES IMPROVED)     192\n",
      "11-25 Final Round Performance - (EVENTS)               192\n",
      "25+ Final Round Performance - (# OF TIMES IMPROVED)     30\n",
      "25+ Final Round Performance - (% TIMES IMPROVED)         2\n",
      "25+ Final Round Performance - (EVENTS)                   2\n",
      "                                                      ... \n",
      "Total 3 Putts - 20-25' - (TOTAL 3 PUTTS)               311\n",
      "Total Eagles - (TOTAL)                                  20\n",
      "Total Hole Outs - (HOLE OUTS)                            3\n",
      "Total Hole Outs - (ROUNDS)                               3\n",
      "YTD Rounds in 60's Streak - (BEST STREAK)               20\n",
      "Length: 267, dtype: int64\n"
     ]
    }
   ],
   "source": [
    "# Number of missing values in each column of training data\n",
    "missing_val_count_by_column = (pga_hist.isnull().sum())\n",
    "print(missing_val_count_by_column[missing_val_count_by_column > 0])"
   ]
  },
  {
   "cell_type": "code",
   "execution_count": 9,
   "metadata": {},
   "outputs": [
    {
     "name": "stdout",
     "output_type": "stream",
     "text": [
      "<class 'pandas.core.frame.DataFrame'>\n",
      "Int64Index: 317 entries, 1 to 562\n",
      "Columns: 939 entries, PlayerName to Total Putting - (TOTAL)\n",
      "dtypes: float64(933), int64(1), object(5)\n",
      "memory usage: 2.3+ MB\n"
     ]
    }
   ],
   "source": [
    "#import current stats from pgatour.com\n",
    "pga_2020 = pd.read_csv('111819.csv')\n",
    "\n",
    "pga_2020.Value = pga_2020.Value.str.replace(',','')\n",
    "pga_2020.Value = pga_2020.Value.str.replace('$','')\n",
    "pga_2020.Value = pga_2020.Value.str.replace('+','')\n",
    "pga_2020.Value = pga_2020.Value.str.replace('- ','-')\n",
    "pga_2020.Value = pga_2020.Value.str.replace('Under','')\n",
    "pga_2020.Value = pga_2020.Value.str.replace('E','')\n",
    "pga_2020.Value = pga_2020.Value.str.replace('T','')\n",
    "pga_2020.Value = pga_2020.Value.str.replace('ven','')\n",
    "pga_2020.Value = pga_2020.Value.str.replace('Over','')\n",
    "\n",
    "pga_2020.Value = pga_2020.apply(ftinconverter,axis=1,column='Value')\n",
    "\n",
    "pga_2020.dropna(axis=0, subset=['Value'], inplace=True)\n",
    "\n",
    "pga_2020=pga_2020[pga_2020.Category.isin(['Off the Tee','Approach the Green','Around the Green','Putting','Scoring'])]\n",
    "\n",
    "#pivot the data to make it tidy\n",
    "pga_2020 = pga_2020.pivot_table(\n",
    "        index=['PlayerName', 'Season'], \n",
    "         columns='Variable', \n",
    "         values='Value',\n",
    "         aggfunc='first'\n",
    ").reset_index()\n",
    "\n",
    "pga_2020 = pga_2020.apply(pd.to_numeric, errors='ignore')\n",
    "\n",
    "pga_2020 = pga_2020[pga_2020['Driving Accuracy Percentage - (ROUNDS)']>0].copy()\n",
    "\n",
    "pga_2020.dropna(thresh=225,axis=1,how=any,inplace=True)\n",
    "\n",
    "pga_2020.info()"
   ]
  },
  {
   "cell_type": "code",
   "execution_count": 10,
   "metadata": {},
   "outputs": [
    {
     "name": "stdout",
     "output_type": "stream",
     "text": [
      "Variable\n",
      "3-Putt Avoidance - Round 1 - (%)                65\n",
      "3-Putt Avoidance - Round 1 - (TOTAL 3 PUTTS)    65\n",
      "3-Putt Avoidance - Round 1 - (TOTAL HOLES)      65\n",
      "3-Putt Avoidance - Round 2 - (%)                82\n",
      "3-Putt Avoidance - Round 2 - (TOTAL 3 PUTTS)    82\n",
      "                                                ..\n",
      "Total Driving - (DISTANCE RANK)                 69\n",
      "Total Driving - (EVENTS)                        69\n",
      "Total Driving - (TOTAL)                         69\n",
      "Total Putting - (EVENTS)                        88\n",
      "Total Putting - (TOTAL)                         88\n",
      "Length: 740, dtype: int64\n"
     ]
    }
   ],
   "source": [
    "# Number of missing values in each column of training data\n",
    "missing_val_count_by_column = (pga_2020.isnull().sum())\n",
    "print(missing_val_count_by_column[missing_val_count_by_column > 0])"
   ]
  },
  {
   "cell_type": "code",
   "execution_count": 21,
   "metadata": {},
   "outputs": [],
   "source": [
    "#impute pga historical stats\n",
    "\n",
    "from sklearn.experimental import enable_iterative_imputer\n",
    "from sklearn.impute import IterativeImputer\n",
    "\n",
    "imputer = IterativeImputer()\n",
    "\n",
    "pga_hist_col_num = pga_hist.select_dtypes(exclude=['object']).columns\n",
    "imp_pga_hist = pd.DataFrame(imputer.fit_transform(pga_hist[pga_hist_col_num]))\n",
    "imp_pga_hist.columns = pga_hist_col_num\n",
    "\n",
    "imp_pga_hist['PlayerName'] = list(pga_hist.PlayerName)\n",
    "imp_pga_hist['Season'] = list(pga_hist.Season)\n",
    "\n",
    "pga_2020_col_num = pga_2020.select_dtypes(exclude=['object']).columns\n",
    "imp_pga_2020 = pd.DataFrame(imputer.fit_transform(pga_2020[pga_2020_col_num]))\n",
    "imp_pga_2020.columns = pga_2020_col_num\n",
    "\n",
    "imp_pga_2020['PlayerName'] = list(pga_2020.PlayerName)\n",
    "imp_pga_2020['Season'] = list(pga_2020.Season)"
   ]
  },
  {
   "cell_type": "code",
   "execution_count": 22,
   "metadata": {},
   "outputs": [],
   "source": [
    "#impute pga current stats\n",
    "from sklearn.experimental import enable_iterative_imputer\n",
    "from sklearn.impute import IterativeImputer\n",
    "\n",
    "imputer = IterativeImputer()\n",
    "\n",
    "pga_2020_col_num = pga_2020.select_dtypes(exclude=['object']).columns\n",
    "imp_pga_2020 = pd.DataFrame(imputer.fit_transform(pga_2020[pga_2020_col_num]))\n",
    "imp_pga_2020.columns = pga_2020_col_num\n",
    "\n",
    "imp_pga_2020['PlayerName'] = list(pga_2020.PlayerName)\n",
    "imp_pga_2020['Season'] = list(pga_2020.Season)"
   ]
  },
  {
   "cell_type": "code",
   "execution_count": 23,
   "metadata": {},
   "outputs": [
    {
     "name": "stdout",
     "output_type": "stream",
     "text": [
      "False\n",
      "False\n"
     ]
    }
   ],
   "source": [
    "#validate missing values have been imputed\n",
    "print(imp_pga_hist.isna().values.any())\n",
    "print(imp_pga_2020.isna().values.any())"
   ]
  },
  {
   "cell_type": "code",
   "execution_count": 24,
   "metadata": {},
   "outputs": [
    {
     "name": "stdout",
     "output_type": "stream",
     "text": [
      "878\n"
     ]
    }
   ],
   "source": [
    "#find the intersection of columns between the historical stats and the current stats\n",
    "intcol = imp_pga_hist.columns.intersection(imp_pga_2020.columns)\n",
    "imp_pga_hist = imp_pga_hist[intcol]\n",
    "imp_pga_2020 = imp_pga_2020[intcol] \n",
    "print(len(intcol))"
   ]
  },
  {
   "cell_type": "code",
   "execution_count": 25,
   "metadata": {},
   "outputs": [
    {
     "data": {
      "image/png": "[encoded data removed]",
      "text/plain": [
       "<Figure size 432x288 with 1 Axes>"
      ]
     },
     "metadata": {
      "needs_background": "light"
     },
     "output_type": "display_data"
    }
   ],
   "source": [
    "avgseason = imp_pga_hist.groupby('Season')['Driving Distance - (AVG.)'].mean()\n",
    "avgseason.plot()\n",
    "plt.ylabel('Driving Distance - (AVG.)')\n",
    "plt.xlabel('Year')\n",
    "plt.title('Average Driving Distance by Season')\n",
    "plt.show()"
   ]
  },
  {
   "cell_type": "code",
   "execution_count": 26,
   "metadata": {},
   "outputs": [
    {
     "data": {
      "image/png": "[encoded data removed]",
      "text/plain": [
       "<Figure size 432x288 with 1 Axes>"
      ]
     },
     "metadata": {
      "needs_background": "light"
     },
     "output_type": "display_data"
    }
   ],
   "source": [
    "import matplotlib.pyplot as plt\n",
    "\n",
    "imp_pga_hist['Driving Distance - (AVG.)'].plot(kind='hist',bins=20)\n",
    "plt.xlabel('Driving Distance - (AVG.)')\n",
    "plt.ylabel('Number of Golfers')\n",
    "plt.show()"
   ]
  },
  {
   "cell_type": "code",
   "execution_count": 27,
   "metadata": {},
   "outputs": [
    {
     "data": {
      "image/png": "[encoded data removed]",
      "text/plain": [
       "<Figure size 432x288 with 1 Axes>"
      ]
     },
     "metadata": {
      "needs_background": "light"
     },
     "output_type": "display_data"
    }
   ],
   "source": [
    "import matplotlib.pyplot as plt\n",
    "\n",
    "imp_pga_2020['Driving Distance - (AVG.)'].plot(kind='hist',bins=20)\n",
    "plt.xlabel('Driving Distance - (AVG.)')\n",
    "plt.ylabel('Number of Golfers')\n",
    "plt.show()"
   ]
  },
  {
   "cell_type": "code",
   "execution_count": 28,
   "metadata": {},
   "outputs": [
    {
     "data": {
      "text/plain": [
       "<matplotlib.axes._subplots.AxesSubplot at 0x1a313d8190>"
      ]
     },
     "execution_count": 28,
     "metadata": {},
     "output_type": "execute_result"
    },
    {
     "data": {
      "image/png": "[encoded data removed]",
      "text/plain": [
       "<Figure size 432x288 with 1 Axes>"
      ]
     },
     "metadata": {
      "needs_background": "light"
     },
     "output_type": "display_data"
    }
   ],
   "source": [
    "pga_hist.boxplot(column='Driving Distance - (AVG.)', by='Season')"
   ]
  },
  {
   "cell_type": "code",
   "execution_count": 29,
   "metadata": {},
   "outputs": [
    {
     "data": {
      "image/png": "[encoded data removed]",
      "text/plain": [
       "<Figure size 432x288 with 1 Axes>"
      ]
     },
     "metadata": {
      "needs_background": "light"
     },
     "output_type": "display_data"
    }
   ],
   "source": [
    "imp_pga_hist.plot(kind='scatter', x='Driving Distance - (AVG.)', y='Driving Accuracy Percentage - (%)')\n",
    "plt.xlabel('Driving Accuracy')\n",
    "plt.ylabel('Number of Golfers')\n",
    "plt.show()"
   ]
  },
  {
   "cell_type": "code",
   "execution_count": 30,
   "metadata": {},
   "outputs": [
    {
     "name": "stdout",
     "output_type": "stream",
     "text": [
      "0.21362273962898598\n",
      "0.9890840577174196\n"
     ]
    },
    {
     "data": {
      "text/html": [
       "<table class=\"simpletable\">\n",
       "<caption>OLS Regression Results</caption>\n",
       "<tr>\n",
       "  <th>Dep. Variable:</th>            <td>y</td>        <th>  R-squared (uncentered):</th>      <td>   0.989</td> \n",
       "</tr>\n",
       "<tr>\n",
       "  <th>Model:</th>                   <td>OLS</td>       <th>  Adj. R-squared (uncentered):</th> <td>   0.989</td> \n",
       "</tr>\n",
       "<tr>\n",
       "  <th>Method:</th>             <td>Least Squares</td>  <th>  F-statistic:       </th>          <td>2.572e+05</td>\n",
       "</tr>\n",
       "<tr>\n",
       "  <th>Date:</th>             <td>Wed, 27 Nov 2019</td> <th>  Prob (F-statistic):</th>           <td>  0.00</td>  \n",
       "</tr>\n",
       "<tr>\n",
       "  <th>Time:</th>                 <td>03:13:28</td>     <th>  Log-Likelihood:    </th>          <td> -9353.4</td> \n",
       "</tr>\n",
       "<tr>\n",
       "  <th>No. Observations:</th>      <td>  2840</td>      <th>  AIC:               </th>          <td>1.871e+04</td>\n",
       "</tr>\n",
       "<tr>\n",
       "  <th>Df Residuals:</th>          <td>  2839</td>      <th>  BIC:               </th>          <td>1.871e+04</td>\n",
       "</tr>\n",
       "<tr>\n",
       "  <th>Df Model:</th>              <td>     1</td>      <th>                     </th>              <td> </td>    \n",
       "</tr>\n",
       "<tr>\n",
       "  <th>Covariance Type:</th>      <td>nonrobust</td>    <th>                     </th>              <td> </td>    \n",
       "</tr>\n",
       "</table>\n",
       "<table class=\"simpletable\">\n",
       "<tr>\n",
       "   <td></td>     <th>coef</th>     <th>std err</th>      <th>t</th>      <th>P>|t|</th>  <th>[0.025</th>    <th>0.975]</th>  \n",
       "</tr>\n",
       "<tr>\n",
       "  <th>x1</th> <td>    0.2136</td> <td>    0.000</td> <td>  507.188</td> <td> 0.000</td> <td>    0.213</td> <td>    0.214</td>\n",
       "</tr>\n",
       "</table>\n",
       "<table class=\"simpletable\">\n",
       "<tr>\n",
       "  <th>Omnibus:</th>       <td> 1.685</td> <th>  Durbin-Watson:     </th> <td>   0.694</td>\n",
       "</tr>\n",
       "<tr>\n",
       "  <th>Prob(Omnibus):</th> <td> 0.431</td> <th>  Jarque-Bera (JB):  </th> <td>   1.644</td>\n",
       "</tr>\n",
       "<tr>\n",
       "  <th>Skew:</th>          <td> 0.006</td> <th>  Prob(JB):          </th> <td>   0.440</td>\n",
       "</tr>\n",
       "<tr>\n",
       "  <th>Kurtosis:</th>      <td> 2.883</td> <th>  Cond. No.          </th> <td>    1.00</td>\n",
       "</tr>\n",
       "</table><br/><br/>Warnings:<br/>[1] Standard Errors assume that the covariance matrix of the errors is correctly specified."
      ],
      "text/plain": [
       "<class 'statsmodels.iolib.summary.Summary'>\n",
       "\"\"\"\n",
       "                                 OLS Regression Results                                \n",
       "=======================================================================================\n",
       "Dep. Variable:                      y   R-squared (uncentered):                   0.989\n",
       "Model:                            OLS   Adj. R-squared (uncentered):              0.989\n",
       "Method:                 Least Squares   F-statistic:                          2.572e+05\n",
       "Date:                Wed, 27 Nov 2019   Prob (F-statistic):                        0.00\n",
       "Time:                        03:13:28   Log-Likelihood:                         -9353.4\n",
       "No. Observations:                2840   AIC:                                  1.871e+04\n",
       "Df Residuals:                    2839   BIC:                                  1.871e+04\n",
       "Df Model:                           1                                                  \n",
       "Covariance Type:            nonrobust                                                  \n",
       "==============================================================================\n",
       "                 coef    std err          t      P>|t|      [0.025      0.975]\n",
       "------------------------------------------------------------------------------\n",
       "x1             0.2136      0.000    507.188      0.000       0.213       0.214\n",
       "==============================================================================\n",
       "Omnibus:                        1.685   Durbin-Watson:                   0.694\n",
       "Prob(Omnibus):                  0.431   Jarque-Bera (JB):                1.644\n",
       "Skew:                           0.006   Prob(JB):                        0.440\n",
       "Kurtosis:                       2.883   Cond. No.                         1.00\n",
       "==============================================================================\n",
       "\n",
       "Warnings:\n",
       "[1] Standard Errors assume that the covariance matrix of the errors is correctly specified.\n",
       "\"\"\""
      ]
     },
     "execution_count": 30,
     "metadata": {},
     "output_type": "execute_result"
    }
   ],
   "source": [
    "import statsmodels.api as sm\n",
    "x = list(imp_pga_hist['Driving Distance - (AVG.)'])\n",
    "y = list(imp_pga_hist['Driving Accuracy Percentage - (%)'])\n",
    "results = sm.OLS(y, x).fit() #fits the data\n",
    "slope = results.params[0] #params gives betas\n",
    "r2 = results.rsquared #r2 value\n",
    "print (slope)\n",
    "print (r2)\n",
    "\n",
    "results.summary()"
   ]
  },
  {
   "cell_type": "code",
   "execution_count": 31,
   "metadata": {},
   "outputs": [],
   "source": [
    "#PGA player names may differ from different sources. To solve for this, I've created an NLP model to identify player names\n",
    "#example: Alex Noren versus Alexander Noren\n",
    "\n",
    "from sklearn.feature_extraction.text import CountVectorizer,TfidfVectorizer\n",
    "from sklearn.naive_bayes import BernoulliNB,MultinomialNB\n",
    "\n",
    "plist = list(set(list(imp_pga_hist.PlayerName) + list(imp_pga_2020.PlayerName)))\n",
    "plist = [z.replace('\\xa0',' ') for z in plist]\n",
    "\n",
    "count_vect = TfidfVectorizer(stop_words=[],min_df=0, lowercase=True, token_pattern=r\"\\b\\w+\\b\",ngram_range=(2,6), analyzer='char_wb'\n",
    "                             ,binary=False)\n",
    "words = count_vect.fit_transform(plist)\n",
    "words\n",
    "\n",
    "playerfeatures = words\n",
    "playertarget = plist\n",
    "\n",
    "clfplayer = MultinomialNB(.001).fit(playerfeatures,playertarget) #.0000000001\n",
    "#clfplayer = BernoulliNB(.1).fit(playerfeatures,playertarget) #.0000000001"
   ]
  },
  {
   "cell_type": "code",
   "execution_count": 35,
   "metadata": {},
   "outputs": [
    {
     "name": "stdout",
     "output_type": "stream",
     "text": [
      "['Alex Noren']\n",
      "[0.95366532]\n"
     ]
    }
   ],
   "source": [
    "#test NLP player model\n",
    "docs_new = ['Alexander Noren'] \n",
    "X_new = count_vect.transform(docs_new)\n",
    "predicted = clfplayer.predict(X_new)\n",
    "prob =  clfplayer.predict_proba(X_new).max(axis=1)\n",
    "print (predicted)\n",
    "print (prob)"
   ]
  },
  {
   "cell_type": "code",
   "execution_count": 45,
   "metadata": {},
   "outputs": [
    {
     "name": "stdout",
     "output_type": "stream",
     "text": [
      "True     677\n",
      "False    561\n",
      "Name: made_cut, dtype: int64\n",
      "[2010, 2011, 2012, 2014, 2015, 2016, 2017, 2018, 2019]\n",
      "<class 'pandas.core.frame.DataFrame'>\n",
      "Int64Index: 1238 entries, 0 to 153\n",
      "Data columns (total 12 columns):\n",
      "0             1238 non-null object\n",
      "PlayerName    1238 non-null object\n",
      "score         1238 non-null object\n",
      "3             1238 non-null object\n",
      "4             1238 non-null object\n",
      "5             1238 non-null object\n",
      "6             1238 non-null object\n",
      "7             1238 non-null object\n",
      "8             1238 non-null object\n",
      "9             1238 non-null int64\n",
      "Season        1238 non-null int64\n",
      "made_cut      1238 non-null bool\n",
      "dtypes: bool(1), int64(2), object(9)\n",
      "memory usage: 117.3+ KB\n"
     ]
    }
   ],
   "source": [
    "#import web scraped tournament results from espn.com\n",
    "import glob\n",
    "\n",
    "file_list = glob.glob('rsm??.csv')\n",
    "file_list\n",
    "\n",
    "df_list = []\n",
    "for i in file_list:\n",
    "    df = pd.read_csv(i,header=None)\n",
    "    df['Season'] = int('20' + i.split('.')[0][-2:])\n",
    "    #df['Season'] = df.Season\n",
    "    df_list.append(df)\n",
    "\n",
    "tourn = pd.concat(df_list)\n",
    "\n",
    "tourn = tourn.rename(columns={1:'player',2:'score'})\n",
    "\n",
    "tourn = tourn[~tourn.score.isin(['WD','DQ','DNS','E'])]\n",
    "tourn = tourn[tourn.score!='Cut'] \n",
    "tourn['made_cut'] = tourn.score!='CUT'\n",
    "\n",
    "tourn = tourn.rename(columns={'player': 'PlayerName'})\n",
    "print (tourn.made_cut.value_counts())\n",
    "print (sorted(tourn.Season.unique()))\n",
    "tourn.info()"
   ]
  },
  {
   "cell_type": "code",
   "execution_count": 46,
   "metadata": {},
   "outputs": [
    {
     "data": {
      "text/plain": [
       "31"
      ]
     },
     "execution_count": 46,
     "metadata": {},
     "output_type": "execute_result"
    }
   ],
   "source": [
    "#convert the espn player names to match the names in the pga historical stats data\n",
    "docs_new = tourn.PlayerName\n",
    "X_new = count_vect.transform(docs_new)\n",
    "predicted = clfplayer.predict(X_new)\n",
    "predictedproba = clfplayer.predict_proba(X_new).max(axis=1)\n",
    "tourn['playerpred'] = predicted.copy()\n",
    "tourn['playerproba'] = predictedproba.copy()\n",
    "tournout = tourn[tourn.playerproba < .97]\n",
    "tourn = tourn[tourn.playerproba > .97].copy()\n",
    "tourn.player = tourn.playerpred.copy()\n",
    "len(tournout)"
   ]
  },
  {
   "cell_type": "code",
   "execution_count": 47,
   "metadata": {},
   "outputs": [
    {
     "name": "stdout",
     "output_type": "stream",
     "text": [
      "<class 'pandas.core.frame.DataFrame'>\n",
      "Int64Index: 1207 entries, 0 to 1206\n",
      "Columns: 880 entries, PlayerName to Total Putting - (TOTAL)\n",
      "dtypes: bool(1), float64(876), int64(1), object(2)\n",
      "memory usage: 8.1+ MB\n"
     ]
    }
   ],
   "source": [
    "#merge the espn tournament results with the pga historical stats data\n",
    "comdata = pd.merge(tourn[['PlayerName','score','Season','made_cut']], imp_pga_hist, how='left', on=['PlayerName','Season'])\n",
    "comdata.info()"
   ]
  },
  {
   "cell_type": "code",
   "execution_count": 48,
   "metadata": {},
   "outputs": [
    {
     "data": {
      "text/html": [
       "<div>\n",
       "<style scoped>\n",
       "    .dataframe tbody tr th:only-of-type {\n",
       "        vertical-align: middle;\n",
       "    }\n",
       "\n",
       "    .dataframe tbody tr th {\n",
       "        vertical-align: top;\n",
       "    }\n",
       "\n",
       "    .dataframe thead th {\n",
       "        text-align: right;\n",
       "    }\n",
       "</style>\n",
       "<table border=\"1\" class=\"dataframe\">\n",
       "  <thead>\n",
       "    <tr style=\"text-align: right;\">\n",
       "      <th></th>\n",
       "      <th>PlayerName</th>\n",
       "      <th>mcperc</th>\n",
       "      <th>tourncount</th>\n",
       "      <th>mccount</th>\n",
       "    </tr>\n",
       "  </thead>\n",
       "  <tbody>\n",
       "    <tr>\n",
       "      <td>121</td>\n",
       "      <td>David Hearn</td>\n",
       "      <td>1.0</td>\n",
       "      <td>6</td>\n",
       "      <td>6.0</td>\n",
       "    </tr>\n",
       "    <tr>\n",
       "      <td>408</td>\n",
       "      <td>Webb Simpson</td>\n",
       "      <td>1.0</td>\n",
       "      <td>6</td>\n",
       "      <td>6.0</td>\n",
       "    </tr>\n",
       "    <tr>\n",
       "      <td>69</td>\n",
       "      <td>Brice Garnett</td>\n",
       "      <td>1.0</td>\n",
       "      <td>5</td>\n",
       "      <td>5.0</td>\n",
       "    </tr>\n",
       "    <tr>\n",
       "      <td>12</td>\n",
       "      <td>Andres Gonzales</td>\n",
       "      <td>1.0</td>\n",
       "      <td>4</td>\n",
       "      <td>4.0</td>\n",
       "    </tr>\n",
       "    <tr>\n",
       "      <td>39</td>\n",
       "      <td>Blake Adams</td>\n",
       "      <td>1.0</td>\n",
       "      <td>4</td>\n",
       "      <td>4.0</td>\n",
       "    </tr>\n",
       "  </tbody>\n",
       "</table>\n",
       "</div>"
      ],
      "text/plain": [
       "          PlayerName  mcperc  tourncount  mccount\n",
       "121      David Hearn     1.0           6      6.0\n",
       "408     Webb Simpson     1.0           6      6.0\n",
       "69     Brice Garnett     1.0           5      5.0\n",
       "12   Andres Gonzales     1.0           4      4.0\n",
       "39       Blake Adams     1.0           4      4.0"
      ]
     },
     "execution_count": 48,
     "metadata": {},
     "output_type": "execute_result"
    }
   ],
   "source": [
    "#calculate a players historical made cut\n",
    "mccount = comdata.groupby(['PlayerName'])\n",
    "mc = mccount['made_cut'].sum()\n",
    "tmc = mccount['PlayerName'].count()\n",
    "mcperc = mc/tmc\n",
    "mcperc = mcperc.reset_index().rename(columns={0:'mcperc'})\n",
    "mcperc['tourncount'] = list(tmc)\n",
    "mcperc['mccount'] = list(mc)\n",
    "mcperc.sort_values(['mcperc','tourncount'],ascending=[0,0]).head()"
   ]
  },
  {
   "cell_type": "code",
   "execution_count": 49,
   "metadata": {},
   "outputs": [
    {
     "name": "stdout",
     "output_type": "stream",
     "text": [
      "True     568\n",
      "False    394\n",
      "Name: made_cut, dtype: int64\n"
     ]
    },
    {
     "data": {
      "text/html": [
       "<div>\n",
       "<style scoped>\n",
       "    .dataframe tbody tr th:only-of-type {\n",
       "        vertical-align: middle;\n",
       "    }\n",
       "\n",
       "    .dataframe tbody tr th {\n",
       "        vertical-align: top;\n",
       "    }\n",
       "\n",
       "    .dataframe thead th {\n",
       "        text-align: right;\n",
       "    }\n",
       "</style>\n",
       "<table border=\"1\" class=\"dataframe\">\n",
       "  <thead>\n",
       "    <tr style=\"text-align: right;\">\n",
       "      <th></th>\n",
       "      <th>PlayerName</th>\n",
       "      <th>score</th>\n",
       "      <th>Season</th>\n",
       "      <th>made_cut</th>\n",
       "      <th>1-Putts per Round - (AVG)</th>\n",
       "      <th>1-Putts per Round - (ROUNDS)</th>\n",
       "      <th>1-Putts per Round - (TOTAL 1 PUTTS)</th>\n",
       "      <th>1-Putts per Round - (TOTAL ROUNDS)</th>\n",
       "      <th>2-Putts per Round - (AVG)</th>\n",
       "      <th>2-Putts per Round - (ROUNDS)</th>\n",
       "      <th>...</th>\n",
       "      <th>Total Birdies - (ROUNDS)</th>\n",
       "      <th>Total Birdies - (TOTAL)</th>\n",
       "      <th>Total Driving - (ACCURACY RANK)</th>\n",
       "      <th>Total Driving - (DISTANCE RANK)</th>\n",
       "      <th>Total Driving - (EVENTS)</th>\n",
       "      <th>Total Driving - (TOTAL)</th>\n",
       "      <th>Total Eagles - (ROUNDS)</th>\n",
       "      <th>Total Eagles - (TOTAL)</th>\n",
       "      <th>Total Putting - (EVENTS)</th>\n",
       "      <th>Total Putting - (TOTAL)</th>\n",
       "    </tr>\n",
       "  </thead>\n",
       "  <tbody>\n",
       "    <tr>\n",
       "      <td>0</td>\n",
       "      <td>Robert Streb</td>\n",
       "      <td>-14</td>\n",
       "      <td>2015</td>\n",
       "      <td>True</td>\n",
       "      <td>6.95</td>\n",
       "      <td>110.0</td>\n",
       "      <td>764.0</td>\n",
       "      <td>110.0</td>\n",
       "      <td>10.41</td>\n",
       "      <td>110.0</td>\n",
       "      <td>...</td>\n",
       "      <td>110.0</td>\n",
       "      <td>434.0</td>\n",
       "      <td>123.0</td>\n",
       "      <td>36.0</td>\n",
       "      <td>30.0</td>\n",
       "      <td>159.0</td>\n",
       "      <td>110.0</td>\n",
       "      <td>9.0</td>\n",
       "      <td>30.0</td>\n",
       "      <td>103.3</td>\n",
       "    </tr>\n",
       "    <tr>\n",
       "      <td>1</td>\n",
       "      <td>Brendon de Jonge</td>\n",
       "      <td>-14</td>\n",
       "      <td>2015</td>\n",
       "      <td>True</td>\n",
       "      <td>7.06</td>\n",
       "      <td>106.0</td>\n",
       "      <td>748.0</td>\n",
       "      <td>106.0</td>\n",
       "      <td>10.34</td>\n",
       "      <td>106.0</td>\n",
       "      <td>...</td>\n",
       "      <td>106.0</td>\n",
       "      <td>400.0</td>\n",
       "      <td>44.0</td>\n",
       "      <td>130.0</td>\n",
       "      <td>31.0</td>\n",
       "      <td>174.0</td>\n",
       "      <td>106.0</td>\n",
       "      <td>6.0</td>\n",
       "      <td>31.0</td>\n",
       "      <td>200.7</td>\n",
       "    </tr>\n",
       "    <tr>\n",
       "      <td>3</td>\n",
       "      <td>Ken Duke</td>\n",
       "      <td>-12</td>\n",
       "      <td>2015</td>\n",
       "      <td>True</td>\n",
       "      <td>7.15</td>\n",
       "      <td>93.0</td>\n",
       "      <td>636.0</td>\n",
       "      <td>89.0</td>\n",
       "      <td>9.90</td>\n",
       "      <td>93.0</td>\n",
       "      <td>...</td>\n",
       "      <td>93.0</td>\n",
       "      <td>312.0</td>\n",
       "      <td>23.0</td>\n",
       "      <td>168.0</td>\n",
       "      <td>30.0</td>\n",
       "      <td>191.0</td>\n",
       "      <td>93.0</td>\n",
       "      <td>7.0</td>\n",
       "      <td>30.0</td>\n",
       "      <td>291.4</td>\n",
       "    </tr>\n",
       "    <tr>\n",
       "      <td>4</td>\n",
       "      <td>Kevin Kisner</td>\n",
       "      <td>-12</td>\n",
       "      <td>2015</td>\n",
       "      <td>True</td>\n",
       "      <td>7.07</td>\n",
       "      <td>104.0</td>\n",
       "      <td>735.0</td>\n",
       "      <td>104.0</td>\n",
       "      <td>10.32</td>\n",
       "      <td>104.0</td>\n",
       "      <td>...</td>\n",
       "      <td>104.0</td>\n",
       "      <td>367.0</td>\n",
       "      <td>34.0</td>\n",
       "      <td>114.0</td>\n",
       "      <td>30.0</td>\n",
       "      <td>148.0</td>\n",
       "      <td>104.0</td>\n",
       "      <td>6.0</td>\n",
       "      <td>30.0</td>\n",
       "      <td>114.8</td>\n",
       "    </tr>\n",
       "    <tr>\n",
       "      <td>5</td>\n",
       "      <td>Chris Kirk</td>\n",
       "      <td>-12</td>\n",
       "      <td>2015</td>\n",
       "      <td>True</td>\n",
       "      <td>7.36</td>\n",
       "      <td>76.0</td>\n",
       "      <td>537.0</td>\n",
       "      <td>73.0</td>\n",
       "      <td>9.86</td>\n",
       "      <td>76.0</td>\n",
       "      <td>...</td>\n",
       "      <td>76.0</td>\n",
       "      <td>271.0</td>\n",
       "      <td>90.0</td>\n",
       "      <td>128.0</td>\n",
       "      <td>21.0</td>\n",
       "      <td>218.0</td>\n",
       "      <td>76.0</td>\n",
       "      <td>8.0</td>\n",
       "      <td>21.0</td>\n",
       "      <td>147.5</td>\n",
       "    </tr>\n",
       "  </tbody>\n",
       "</table>\n",
       "<p>5 rows × 880 columns</p>\n",
       "</div>"
      ],
      "text/plain": [
       "         PlayerName score  Season  made_cut  1-Putts per Round - (AVG)  \\\n",
       "0      Robert Streb   -14    2015      True                       6.95   \n",
       "1  Brendon de Jonge   -14    2015      True                       7.06   \n",
       "3          Ken Duke   -12    2015      True                       7.15   \n",
       "4      Kevin Kisner   -12    2015      True                       7.07   \n",
       "5        Chris Kirk   -12    2015      True                       7.36   \n",
       "\n",
       "   1-Putts per Round - (ROUNDS)  1-Putts per Round - (TOTAL 1 PUTTS)  \\\n",
       "0                         110.0                                764.0   \n",
       "1                         106.0                                748.0   \n",
       "3                          93.0                                636.0   \n",
       "4                         104.0                                735.0   \n",
       "5                          76.0                                537.0   \n",
       "\n",
       "   1-Putts per Round - (TOTAL ROUNDS)  2-Putts per Round - (AVG)  \\\n",
       "0                               110.0                      10.41   \n",
       "1                               106.0                      10.34   \n",
       "3                                89.0                       9.90   \n",
       "4                               104.0                      10.32   \n",
       "5                                73.0                       9.86   \n",
       "\n",
       "   2-Putts per Round - (ROUNDS)  ...  Total Birdies - (ROUNDS)  \\\n",
       "0                         110.0  ...                     110.0   \n",
       "1                         106.0  ...                     106.0   \n",
       "3                          93.0  ...                      93.0   \n",
       "4                         104.0  ...                     104.0   \n",
       "5                          76.0  ...                      76.0   \n",
       "\n",
       "   Total Birdies - (TOTAL)  Total Driving - (ACCURACY RANK)  \\\n",
       "0                    434.0                            123.0   \n",
       "1                    400.0                             44.0   \n",
       "3                    312.0                             23.0   \n",
       "4                    367.0                             34.0   \n",
       "5                    271.0                             90.0   \n",
       "\n",
       "   Total Driving - (DISTANCE RANK)  Total Driving - (EVENTS)  \\\n",
       "0                             36.0                      30.0   \n",
       "1                            130.0                      31.0   \n",
       "3                            168.0                      30.0   \n",
       "4                            114.0                      30.0   \n",
       "5                            128.0                      21.0   \n",
       "\n",
       "   Total Driving - (TOTAL)  Total Eagles - (ROUNDS)  Total Eagles - (TOTAL)  \\\n",
       "0                    159.0                    110.0                     9.0   \n",
       "1                    174.0                    106.0                     6.0   \n",
       "3                    191.0                     93.0                     7.0   \n",
       "4                    148.0                    104.0                     6.0   \n",
       "5                    218.0                     76.0                     8.0   \n",
       "\n",
       "   Total Putting - (EVENTS)  Total Putting - (TOTAL)  \n",
       "0                      30.0                    103.3  \n",
       "1                      31.0                    200.7  \n",
       "3                      30.0                    291.4  \n",
       "4                      30.0                    114.8  \n",
       "5                      21.0                    147.5  \n",
       "\n",
       "[5 rows x 880 columns]"
      ]
     },
     "execution_count": 49,
     "metadata": {},
     "output_type": "execute_result"
    }
   ],
   "source": [
    "comdata.dropna(axis=0, inplace=True)\n",
    "print(comdata.made_cut.value_counts())\n",
    "comdata.head()"
   ]
  },
  {
   "cell_type": "code",
   "execution_count": 83,
   "metadata": {},
   "outputs": [],
   "source": [
    "features = comdata.drop(columns=['score','PlayerName','made_cut'])\n",
    "target = comdata.made_cut"
   ]
  },
  {
   "cell_type": "code",
   "execution_count": 84,
   "metadata": {},
   "outputs": [],
   "source": [
    "from sklearn.model_selection import cross_val_score\n",
    "from sklearn.model_selection import train_test_split\n",
    "X_train, X_valid, y_train, y_valid = train_test_split(features, target, test_size=0.10)"
   ]
  },
  {
   "cell_type": "code",
   "execution_count": 85,
   "metadata": {},
   "outputs": [],
   "source": [
    "from sklearn.preprocessing import StandardScaler\n",
    "stan = StandardScaler()\n",
    "X_train_stan = stan.fit_transform(X_train)\n",
    "X_train_stan = pd.DataFrame(X_train_stan, columns=features.columns)\n",
    "\n",
    "X_valid_stan = stan.transform(X_valid)\n",
    "X_valid_stan = pd.DataFrame(X_valid_stan, columns=features.columns)"
   ]
  },
  {
   "cell_type": "code",
   "execution_count": 86,
   "metadata": {},
   "outputs": [
    {
     "data": {
      "text/plain": [
       "(865, 877)"
      ]
     },
     "execution_count": 86,
     "metadata": {},
     "output_type": "execute_result"
    }
   ],
   "source": [
    "X_train_stan.shape"
   ]
  },
  {
   "cell_type": "code",
   "execution_count": 87,
   "metadata": {},
   "outputs": [
    {
     "name": "stdout",
     "output_type": "stream",
     "text": [
      "0.589672790454667\n"
     ]
    }
   ],
   "source": [
    "from sklearn.naive_bayes import MultinomialNB,BernoulliNB\n",
    "x = X_train_stan\n",
    "y = y_train\n",
    "nb = BernoulliNB()\n",
    "print (cross_val_score(nb,x,y,cv=10).mean())"
   ]
  },
  {
   "cell_type": "code",
   "execution_count": 88,
   "metadata": {},
   "outputs": [
    {
     "name": "stdout",
     "output_type": "stream",
     "text": [
      "0.6403334669874365\n"
     ]
    }
   ],
   "source": [
    "from sklearn.linear_model import LogisticRegression\n",
    "x = X_train_stan\n",
    "y = y_train\n",
    "lr = LogisticRegression()\n",
    "print (cross_val_score(lr,x,y,cv=10).mean())"
   ]
  },
  {
   "cell_type": "code",
   "execution_count": 89,
   "metadata": {},
   "outputs": [
    {
     "name": "stdout",
     "output_type": "stream",
     "text": [
      "0.5917738937085368\n"
     ]
    }
   ],
   "source": [
    "from sklearn.ensemble import RandomForestRegressor, RandomForestClassifier\n",
    "x = X_train_stan\n",
    "y = y_train\n",
    "rf = RandomForestClassifier(random_state=0,oob_score=True)\n",
    "print (cross_val_score(rf,x,y,cv=10).mean())"
   ]
  },
  {
   "cell_type": "code",
   "execution_count": 90,
   "metadata": {},
   "outputs": [
    {
     "data": {
      "text/html": [
       "\n",
       "    <div class=\"bk-root\">\n",
       "        <a href=\"https://bokeh.pydata.org\" target=\"_blank\" class=\"bk-logo bk-logo-small bk-logo-notebook\"></a>\n",
       "        <span id=\"1190\">Loading BokehJS ...</span>\n",
       "    </div>"
      ]
     },
     "metadata": {},
     "output_type": "display_data"
    },
    {
     "data": {
      "application/javascript": [
       "\n",
       "(function(root) {\n",
       "  function now() {\n",
       "    return new Date();\n",
       "  }\n",
       "\n",
       "  var force = true;\n",
       "\n",
       "  if (typeof root._bokeh_onload_callbacks === \"undefined\" || force === true) {\n",
       "    root._bokeh_onload_callbacks = [];\n",
       "    root._bokeh_is_loading = undefined;\n",
       "  }\n",
       "\n",
       "  var JS_MIME_TYPE = 'application/javascript';\n",
       "  var HTML_MIME_TYPE = 'text/html';\n",
       "  var EXEC_MIME_TYPE = 'application/vnd.bokehjs_exec.v0+json';\n",
       "  var CLASS_NAME = 'output_bokeh rendered_html';\n",
       "\n",
       "  /**\n",
       "   * Render data to the DOM node\n",
       "   */\n",
       "  function render(props, node) {\n",
       "    var script = document.createElement(\"script\");\n",
       "    node.appendChild(script);\n",
       "  }\n",
       "\n",
       "  /**\n",
       "   * Handle when an output is cleared or removed\n",
       "   */\n",
       "  function handleClearOutput(event, handle) {\n",
       "    var cell = handle.cell;\n",
       "\n",
       "    var id = cell.output_area._bokeh_element_id;\n",
       "    var server_id = cell.output_area._bokeh_server_id;\n",
       "    // Clean up Bokeh references\n",
       "    if (id != null && id in Bokeh.index) {\n",
       "      Bokeh.index[id].model.document.clear();\n",
       "      delete Bokeh.index[id];\n",
       "    }\n",
       "\n",
       "    if (server_id !== undefined) {\n",
       "      // Clean up Bokeh references\n",
       "      var cmd = \"from bokeh.io.state import curstate; print(curstate().uuid_to_server['\" + server_id + \"'].get_sessions()[0].document.roots[0]._id)\";\n",
       "      cell.notebook.kernel.execute(cmd, {\n",
       "        iopub: {\n",
       "          output: function(msg) {\n",
       "            var id = msg.content.text.trim();\n",
       "            if (id in Bokeh.index) {\n",
       "              Bokeh.index[id].model.document.clear();\n",
       "              delete Bokeh.index[id];\n",
       "            }\n",
       "          }\n",
       "        }\n",
       "      });\n",
       "      // Destroy server and session\n",
       "      var cmd = \"import bokeh.io.notebook as ion; ion.destroy_server('\" + server_id + \"')\";\n",
       "      cell.notebook.kernel.execute(cmd);\n",
       "    }\n",
       "  }\n",
       "\n",
       "  /**\n",
       "   * Handle when a new output is added\n",
       "   */\n",
       "  function handleAddOutput(event, handle) {\n",
       "    var output_area = handle.output_area;\n",
       "    var output = handle.output;\n",
       "\n",
       "    // limit handleAddOutput to display_data with EXEC_MIME_TYPE content only\n",
       "    if ((output.output_type != \"display_data\") || (!output.data.hasOwnProperty(EXEC_MIME_TYPE))) {\n",
       "      return\n",
       "    }\n",
       "\n",
       "    var toinsert = output_area.element.find(\".\" + CLASS_NAME.split(' ')[0]);\n",
       "\n",
       "    if (output.metadata[EXEC_MIME_TYPE][\"id\"] !== undefined) {\n",
       "      toinsert[toinsert.length - 1].firstChild.textContent = output.data[JS_MIME_TYPE];\n",
       "      // store reference to embed id on output_area\n",
       "      output_area._bokeh_element_id = output.metadata[EXEC_MIME_TYPE][\"id\"];\n",
       "    }\n",
       "    if (output.metadata[EXEC_MIME_TYPE][\"server_id\"] !== undefined) {\n",
       "      var bk_div = document.createElement(\"div\");\n",
       "      bk_div.innerHTML = output.data[HTML_MIME_TYPE];\n",
       "      var script_attrs = bk_div.children[0].attributes;\n",
       "      for (var i = 0; i < script_attrs.length; i++) {\n",
       "        toinsert[toinsert.length - 1].firstChild.setAttribute(script_attrs[i].name, script_attrs[i].value);\n",
       "      }\n",
       "      // store reference to server id on output_area\n",
       "      output_area._bokeh_server_id = output.metadata[EXEC_MIME_TYPE][\"server_id\"];\n",
       "    }\n",
       "  }\n",
       "\n",
       "  function register_renderer(events, OutputArea) {\n",
       "\n",
       "    function append_mime(data, metadata, element) {\n",
       "      // create a DOM node to render to\n",
       "      var toinsert = this.create_output_subarea(\n",
       "        metadata,\n",
       "        CLASS_NAME,\n",
       "        EXEC_MIME_TYPE\n",
       "      );\n",
       "      this.keyboard_manager.register_events(toinsert);\n",
       "      // Render to node\n",
       "      var props = {data: data, metadata: metadata[EXEC_MIME_TYPE]};\n",
       "      render(props, toinsert[toinsert.length - 1]);\n",
       "      element.append(toinsert);\n",
       "      return toinsert\n",
       "    }\n",
       "\n",
       "    /* Handle when an output is cleared or removed */\n",
       "    events.on('clear_output.CodeCell', handleClearOutput);\n",
       "    events.on('delete.Cell', handleClearOutput);\n",
       "\n",
       "    /* Handle when a new output is added */\n",
       "    events.on('output_added.OutputArea', handleAddOutput);\n",
       "\n",
       "    /**\n",
       "     * Register the mime type and append_mime function with output_area\n",
       "     */\n",
       "    OutputArea.prototype.register_mime_type(EXEC_MIME_TYPE, append_mime, {\n",
       "      /* Is output safe? */\n",
       "      safe: true,\n",
       "      /* Index of renderer in `output_area.display_order` */\n",
       "      index: 0\n",
       "    });\n",
       "  }\n",
       "\n",
       "  // register the mime type if in Jupyter Notebook environment and previously unregistered\n",
       "  if (root.Jupyter !== undefined) {\n",
       "    var events = require('base/js/events');\n",
       "    var OutputArea = require('notebook/js/outputarea').OutputArea;\n",
       "\n",
       "    if (OutputArea.prototype.mime_types().indexOf(EXEC_MIME_TYPE) == -1) {\n",
       "      register_renderer(events, OutputArea);\n",
       "    }\n",
       "  }\n",
       "\n",
       "  \n",
       "  if (typeof (root._bokeh_timeout) === \"undefined\" || force === true) {\n",
       "    root._bokeh_timeout = Date.now() + 5000;\n",
       "    root._bokeh_failed_load = false;\n",
       "  }\n",
       "\n",
       "  var NB_LOAD_WARNING = {'data': {'text/html':\n",
       "     \"<div style='background-color: #fdd'>\\n\"+\n",
       "     \"<p>\\n\"+\n",
       "     \"BokehJS does not appear to have successfully loaded. If loading BokehJS from CDN, this \\n\"+\n",
       "     \"may be due to a slow or bad network connection. Possible fixes:\\n\"+\n",
       "     \"</p>\\n\"+\n",
       "     \"<ul>\\n\"+\n",
       "     \"<li>re-rerun `output_notebook()` to attempt to load from CDN again, or</li>\\n\"+\n",
       "     \"<li>use INLINE resources instead, as so:</li>\\n\"+\n",
       "     \"</ul>\\n\"+\n",
       "     \"<code>\\n\"+\n",
       "     \"from bokeh.resources import INLINE\\n\"+\n",
       "     \"output_notebook(resources=INLINE)\\n\"+\n",
       "     \"</code>\\n\"+\n",
       "     \"</div>\"}};\n",
       "\n",
       "  function display_loaded() {\n",
       "    var el = document.getElementById(\"1190\");\n",
       "    if (el != null) {\n",
       "      el.textContent = \"BokehJS is loading...\";\n",
       "    }\n",
       "    if (root.Bokeh !== undefined) {\n",
       "      if (el != null) {\n",
       "        el.textContent = \"BokehJS \" + root.Bokeh.version + \" successfully loaded.\";\n",
       "      }\n",
       "    } else if (Date.now() < root._bokeh_timeout) {\n",
       "      setTimeout(display_loaded, 100)\n",
       "    }\n",
       "  }\n",
       "\n",
       "\n",
       "  function run_callbacks() {\n",
       "    try {\n",
       "      root._bokeh_onload_callbacks.forEach(function(callback) {\n",
       "        if (callback != null)\n",
       "          callback();\n",
       "      });\n",
       "    } finally {\n",
       "      delete root._bokeh_onload_callbacks\n",
       "    }\n",
       "    console.debug(\"Bokeh: all callbacks have finished\");\n",
       "  }\n",
       "\n",
       "  function load_libs(css_urls, js_urls, callback) {\n",
       "    if (css_urls == null) css_urls = [];\n",
       "    if (js_urls == null) js_urls = [];\n",
       "\n",
       "    root._bokeh_onload_callbacks.push(callback);\n",
       "    if (root._bokeh_is_loading > 0) {\n",
       "      console.debug(\"Bokeh: BokehJS is being loaded, scheduling callback at\", now());\n",
       "      return null;\n",
       "    }\n",
       "    if (js_urls == null || js_urls.length === 0) {\n",
       "      run_callbacks();\n",
       "      return null;\n",
       "    }\n",
       "    console.debug(\"Bokeh: BokehJS not loaded, scheduling load and callback at\", now());\n",
       "    root._bokeh_is_loading = css_urls.length + js_urls.length;\n",
       "\n",
       "    function on_load() {\n",
       "      root._bokeh_is_loading--;\n",
       "      if (root._bokeh_is_loading === 0) {\n",
       "        console.debug(\"Bokeh: all BokehJS libraries/stylesheets loaded\");\n",
       "        run_callbacks()\n",
       "      }\n",
       "    }\n",
       "\n",
       "    function on_error() {\n",
       "      console.error(\"failed to load \" + url);\n",
       "    }\n",
       "\n",
       "    for (var i = 0; i < css_urls.length; i++) {\n",
       "      var url = css_urls[i];\n",
       "      const element = document.createElement(\"link\");\n",
       "      element.onload = on_load;\n",
       "      element.onerror = on_error;\n",
       "      element.rel = \"stylesheet\";\n",
       "      element.type = \"text/css\";\n",
       "      element.href = url;\n",
       "      console.debug(\"Bokeh: injecting link tag for BokehJS stylesheet: \", url);\n",
       "      document.body.appendChild(element);\n",
       "    }\n",
       "\n",
       "    for (var i = 0; i < js_urls.length; i++) {\n",
       "      var url = js_urls[i];\n",
       "      var element = document.createElement('script');\n",
       "      element.onload = on_load;\n",
       "      element.onerror = on_error;\n",
       "      element.async = false;\n",
       "      element.src = url;\n",
       "      console.debug(\"Bokeh: injecting script tag for BokehJS library: \", url);\n",
       "      document.head.appendChild(element);\n",
       "    }\n",
       "  };var element = document.getElementById(\"1190\");\n",
       "  if (element == null) {\n",
       "    console.error(\"Bokeh: ERROR: autoload.js configured with elementid '1190' but no matching script tag was found. \")\n",
       "    return false;\n",
       "  }\n",
       "\n",
       "  function inject_raw_css(css) {\n",
       "    const element = document.createElement(\"style\");\n",
       "    element.appendChild(document.createTextNode(css));\n",
       "    document.body.appendChild(element);\n",
       "  }\n",
       "\n",
       "  var js_urls = [\"https://cdn.pydata.org/bokeh/release/bokeh-1.3.4.min.js\", \"https://cdn.pydata.org/bokeh/release/bokeh-widgets-1.3.4.min.js\", \"https://cdn.pydata.org/bokeh/release/bokeh-tables-1.3.4.min.js\", \"https://cdn.pydata.org/bokeh/release/bokeh-gl-1.3.4.min.js\"];\n",
       "  var css_urls = [];\n",
       "\n",
       "  var inline_js = [\n",
       "    function(Bokeh) {\n",
       "      Bokeh.set_log_level(\"info\");\n",
       "    },\n",
       "    \n",
       "    function(Bokeh) {\n",
       "      \n",
       "    },\n",
       "    function(Bokeh) {} // ensure no trailing comma for IE\n",
       "  ];\n",
       "\n",
       "  function run_inline_js() {\n",
       "    \n",
       "    if ((root.Bokeh !== undefined) || (force === true)) {\n",
       "      for (var i = 0; i < inline_js.length; i++) {\n",
       "        inline_js[i].call(root, root.Bokeh);\n",
       "      }if (force === true) {\n",
       "        display_loaded();\n",
       "      }} else if (Date.now() < root._bokeh_timeout) {\n",
       "      setTimeout(run_inline_js, 100);\n",
       "    } else if (!root._bokeh_failed_load) {\n",
       "      console.log(\"Bokeh: BokehJS failed to load within specified timeout.\");\n",
       "      root._bokeh_failed_load = true;\n",
       "    } else if (force !== true) {\n",
       "      var cell = $(document.getElementById(\"1190\")).parents('.cell').data().cell;\n",
       "      cell.output_area.append_execute_result(NB_LOAD_WARNING)\n",
       "    }\n",
       "\n",
       "  }\n",
       "\n",
       "  if (root._bokeh_is_loading === 0) {\n",
       "    console.debug(\"Bokeh: BokehJS loaded, going straight to plotting\");\n",
       "    run_inline_js();\n",
       "  } else {\n",
       "    load_libs(css_urls, js_urls, function() {\n",
       "      console.debug(\"Bokeh: BokehJS plotting callback run at\", now());\n",
       "      run_inline_js();\n",
       "    });\n",
       "  }\n",
       "}(window));"
      ],
      "application/vnd.bokehjs_load.v0+json": "\n(function(root) {\n  function now() {\n    return new Date();\n  }\n\n  var force = true;\n\n  if (typeof root._bokeh_onload_callbacks === \"undefined\" || force === true) {\n    root._bokeh_onload_callbacks = [];\n    root._bokeh_is_loading = undefined;\n  }\n\n  \n\n  \n  if (typeof (root._bokeh_timeout) === \"undefined\" || force === true) {\n    root._bokeh_timeout = Date.now() + 5000;\n    root._bokeh_failed_load = false;\n  }\n\n  var NB_LOAD_WARNING = {'data': {'text/html':\n     \"<div style='background-color: #fdd'>\\n\"+\n     \"<p>\\n\"+\n     \"BokehJS does not appear to have successfully loaded. If loading BokehJS from CDN, this \\n\"+\n     \"may be due to a slow or bad network connection. Possible fixes:\\n\"+\n     \"</p>\\n\"+\n     \"<ul>\\n\"+\n     \"<li>re-rerun `output_notebook()` to attempt to load from CDN again, or</li>\\n\"+\n     \"<li>use INLINE resources instead, as so:</li>\\n\"+\n     \"</ul>\\n\"+\n     \"<code>\\n\"+\n     \"from bokeh.resources import INLINE\\n\"+\n     \"output_notebook(resources=INLINE)\\n\"+\n     \"</code>\\n\"+\n     \"</div>\"}};\n\n  function display_loaded() {\n    var el = document.getElementById(\"1190\");\n    if (el != null) {\n      el.textContent = \"BokehJS is loading...\";\n    }\n    if (root.Bokeh !== undefined) {\n      if (el != null) {\n        el.textContent = \"BokehJS \" + root.Bokeh.version + \" successfully loaded.\";\n      }\n    } else if (Date.now() < root._bokeh_timeout) {\n      setTimeout(display_loaded, 100)\n    }\n  }\n\n\n  function run_callbacks() {\n    try {\n      root._bokeh_onload_callbacks.forEach(function(callback) {\n        if (callback != null)\n          callback();\n      });\n    } finally {\n      delete root._bokeh_onload_callbacks\n    }\n    console.debug(\"Bokeh: all callbacks have finished\");\n  }\n\n  function load_libs(css_urls, js_urls, callback) {\n    if (css_urls == null) css_urls = [];\n    if (js_urls == null) js_urls = [];\n\n    root._bokeh_onload_callbacks.push(callback);\n    if (root._bokeh_is_loading > 0) {\n      console.debug(\"Bokeh: BokehJS is being loaded, scheduling callback at\", now());\n      return null;\n    }\n    if (js_urls == null || js_urls.length === 0) {\n      run_callbacks();\n      return null;\n    }\n    console.debug(\"Bokeh: BokehJS not loaded, scheduling load and callback at\", now());\n    root._bokeh_is_loading = css_urls.length + js_urls.length;\n\n    function on_load() {\n      root._bokeh_is_loading--;\n      if (root._bokeh_is_loading === 0) {\n        console.debug(\"Bokeh: all BokehJS libraries/stylesheets loaded\");\n        run_callbacks()\n      }\n    }\n\n    function on_error() {\n      console.error(\"failed to load \" + url);\n    }\n\n    for (var i = 0; i < css_urls.length; i++) {\n      var url = css_urls[i];\n      const element = document.createElement(\"link\");\n      element.onload = on_load;\n      element.onerror = on_error;\n      element.rel = \"stylesheet\";\n      element.type = \"text/css\";\n      element.href = url;\n      console.debug(\"Bokeh: injecting link tag for BokehJS stylesheet: \", url);\n      document.body.appendChild(element);\n    }\n\n    for (var i = 0; i < js_urls.length; i++) {\n      var url = js_urls[i];\n      var element = document.createElement('script');\n      element.onload = on_load;\n      element.onerror = on_error;\n      element.async = false;\n      element.src = url;\n      console.debug(\"Bokeh: injecting script tag for BokehJS library: \", url);\n      document.head.appendChild(element);\n    }\n  };var element = document.getElementById(\"1190\");\n  if (element == null) {\n    console.error(\"Bokeh: ERROR: autoload.js configured with elementid '1190' but no matching script tag was found. \")\n    return false;\n  }\n\n  function inject_raw_css(css) {\n    const element = document.createElement(\"style\");\n    element.appendChild(document.createTextNode(css));\n    document.body.appendChild(element);\n  }\n\n  var js_urls = [\"https://cdn.pydata.org/bokeh/release/bokeh-1.3.4.min.js\", \"https://cdn.pydata.org/bokeh/release/bokeh-widgets-1.3.4.min.js\", \"https://cdn.pydata.org/bokeh/release/bokeh-tables-1.3.4.min.js\", \"https://cdn.pydata.org/bokeh/release/bokeh-gl-1.3.4.min.js\"];\n  var css_urls = [];\n\n  var inline_js = [\n    function(Bokeh) {\n      Bokeh.set_log_level(\"info\");\n    },\n    \n    function(Bokeh) {\n      \n    },\n    function(Bokeh) {} // ensure no trailing comma for IE\n  ];\n\n  function run_inline_js() {\n    \n    if ((root.Bokeh !== undefined) || (force === true)) {\n      for (var i = 0; i < inline_js.length; i++) {\n        inline_js[i].call(root, root.Bokeh);\n      }if (force === true) {\n        display_loaded();\n      }} else if (Date.now() < root._bokeh_timeout) {\n      setTimeout(run_inline_js, 100);\n    } else if (!root._bokeh_failed_load) {\n      console.log(\"Bokeh: BokehJS failed to load within specified timeout.\");\n      root._bokeh_failed_load = true;\n    } else if (force !== true) {\n      var cell = $(document.getElementById(\"1190\")).parents('.cell').data().cell;\n      cell.output_area.append_execute_result(NB_LOAD_WARNING)\n    }\n\n  }\n\n  if (root._bokeh_is_loading === 0) {\n    console.debug(\"Bokeh: BokehJS loaded, going straight to plotting\");\n    run_inline_js();\n  } else {\n    load_libs(css_urls, js_urls, function() {\n      console.debug(\"Bokeh: BokehJS plotting callback run at\", now());\n      run_inline_js();\n    });\n  }\n}(window));"
     },
     "metadata": {},
     "output_type": "display_data"
    },
    {
     "data": {
      "text/html": [
       "\n",
       "\n",
       "\n",
       "\n",
       "\n",
       "\n",
       "  <div class=\"bk-root\" id=\"6b5346e9-08f5-412b-bab3-bbaa8307940a\" data-root-id=\"1191\"></div>\n"
      ]
     },
     "metadata": {},
     "output_type": "display_data"
    },
    {
     "data": {
      "application/javascript": [
       "(function(root) {\n",
       "  function embed_document(root) {\n",
       "    \n",
       "  var docs_json = {\"67cdf425-c11f-49e4-aed2-694be70ae714\":{\"roots\":{\"references\":[{\"attributes\":{\"below\":[{\"id\":\"1202\",\"type\":\"LinearAxis\"}],\"center\":[{\"id\":\"1206\",\"type\":\"Grid\"},{\"id\":\"1211\",\"type\":\"Grid\"}],\"left\":[{\"id\":\"1207\",\"type\":\"LinearAxis\"}],\"renderers\":[{\"id\":\"1216\",\"type\":\"GlyphRenderer\"}],\"title\":{\"id\":\"1192\",\"type\":\"Title\"},\"toolbar\":{\"id\":\"1212\",\"type\":\"Toolbar\"},\"x_range\":{\"id\":\"1194\",\"type\":\"DataRange1d\"},\"x_scale\":{\"id\":\"1198\",\"type\":\"LinearScale\"},\"y_range\":{\"id\":\"1196\",\"type\":\"DataRange1d\"},\"y_scale\":{\"id\":\"1200\",\"type\":\"LinearScale\"}},\"id\":\"1191\",\"subtype\":\"Figure\",\"type\":\"Plot\"},{\"attributes\":{\"callback\":null},\"id\":\"1194\",\"type\":\"DataRange1d\"},{\"attributes\":{},\"id\":\"1239\",\"type\":\"UnionRenderers\"},{\"attributes\":{},\"id\":\"1203\",\"type\":\"BasicTicker\"},{\"attributes\":{},\"id\":\"1208\",\"type\":\"BasicTicker\"},{\"attributes\":{\"formatter\":{\"id\":\"1237\",\"type\":\"BasicTickFormatter\"},\"ticker\":{\"id\":\"1203\",\"type\":\"BasicTicker\"}},\"id\":\"1202\",\"type\":\"LinearAxis\"},{\"attributes\":{},\"id\":\"1198\",\"type\":\"LinearScale\"},{\"attributes\":{\"ticker\":{\"id\":\"1203\",\"type\":\"BasicTicker\"}},\"id\":\"1206\",\"type\":\"Grid\"},{\"attributes\":{\"text\":\"learning_rate performance\"},\"id\":\"1192\",\"type\":\"Title\"},{\"attributes\":{\"line_alpha\":0.1,\"line_color\":\"#1f77b4\",\"x\":{\"field\":\"x\"},\"y\":{\"field\":\"y\"}},\"id\":\"1215\",\"type\":\"Line\"},{\"attributes\":{\"callback\":null},\"id\":\"1196\",\"type\":\"DataRange1d\"},{\"attributes\":{},\"id\":\"1238\",\"type\":\"Selection\"},{\"attributes\":{\"data_source\":{\"id\":\"1213\",\"type\":\"ColumnDataSource\"},\"glyph\":{\"id\":\"1214\",\"type\":\"Line\"},\"hover_glyph\":null,\"muted_glyph\":null,\"nonselection_glyph\":{\"id\":\"1215\",\"type\":\"Line\"},\"selection_glyph\":null,\"view\":{\"id\":\"1217\",\"type\":\"CDSView\"}},\"id\":\"1216\",\"type\":\"GlyphRenderer\"},{\"attributes\":{},\"id\":\"1200\",\"type\":\"LinearScale\"},{\"attributes\":{\"callback\":null,\"data\":{\"x\":[10,1,0.1,0.01,0.001,0.0001,1e-05,1e-06],\"y\":[0.6391175184078152,0.6403334669874365,0.6323260674102695,0.6566653908775001,0.6497940511773712,0.6151487813175864,0.5966364729897208,0.5908358849116668]},\"selected\":{\"id\":\"1238\",\"type\":\"Selection\"},\"selection_policy\":{\"id\":\"1239\",\"type\":\"UnionRenderers\"}},\"id\":\"1213\",\"type\":\"ColumnDataSource\"},{\"attributes\":{\"dimension\":1,\"ticker\":{\"id\":\"1208\",\"type\":\"BasicTicker\"}},\"id\":\"1211\",\"type\":\"Grid\"},{\"attributes\":{\"formatter\":{\"id\":\"1235\",\"type\":\"BasicTickFormatter\"},\"ticker\":{\"id\":\"1208\",\"type\":\"BasicTicker\"}},\"id\":\"1207\",\"type\":\"LinearAxis\"},{\"attributes\":{\"source\":{\"id\":\"1213\",\"type\":\"ColumnDataSource\"}},\"id\":\"1217\",\"type\":\"CDSView\"},{\"attributes\":{},\"id\":\"1235\",\"type\":\"BasicTickFormatter\"},{\"attributes\":{\"line_color\":\"green\",\"x\":{\"field\":\"x\"},\"y\":{\"field\":\"y\"}},\"id\":\"1214\",\"type\":\"Line\"},{\"attributes\":{},\"id\":\"1237\",\"type\":\"BasicTickFormatter\"},{\"attributes\":{\"active_drag\":\"auto\",\"active_inspect\":\"auto\",\"active_multi\":null,\"active_scroll\":\"auto\",\"active_tap\":\"auto\"},\"id\":\"1212\",\"type\":\"Toolbar\"}],\"root_ids\":[\"1191\"]},\"title\":\"Bokeh Application\",\"version\":\"1.3.4\"}};\n",
       "  var render_items = [{\"docid\":\"67cdf425-c11f-49e4-aed2-694be70ae714\",\"roots\":{\"1191\":\"6b5346e9-08f5-412b-bab3-bbaa8307940a\"}}];\n",
       "  root.Bokeh.embed.embed_items_notebook(docs_json, render_items);\n",
       "\n",
       "  }\n",
       "  if (root.Bokeh !== undefined) {\n",
       "    embed_document(root);\n",
       "  } else {\n",
       "    var attempts = 0;\n",
       "    var timer = setInterval(function(root) {\n",
       "      if (root.Bokeh !== undefined) {\n",
       "        embed_document(root);\n",
       "        clearInterval(timer);\n",
       "      }\n",
       "      attempts++;\n",
       "      if (attempts > 100) {\n",
       "        console.log(\"Bokeh: ERROR: Unable to run BokehJS code because BokehJS library is missing\");\n",
       "        clearInterval(timer);\n",
       "      }\n",
       "    }, 10, root)\n",
       "  }\n",
       "})(window);"
      ],
      "application/vnd.bokehjs_exec.v0+json": ""
     },
     "metadata": {
      "application/vnd.bokehjs_exec.v0+json": {
       "id": "1191"
      }
     },
     "output_type": "display_data"
    },
    {
     "name": "stdout",
     "output_type": "stream",
     "text": [
      "0.01\n"
     ]
    }
   ],
   "source": [
    "#tune logistic regression model\n",
    "from sklearn.linear_model import LogisticRegression\n",
    "\n",
    "from bokeh.plotting import figure, output_notebook,show\n",
    "output_notebook()\n",
    "\n",
    "forest_size = [10,1,.1,.01,.001,.0001,.00001,.000001]\n",
    "\n",
    "perf = []\n",
    "for i in forest_size:   \n",
    "    \n",
    "    est = LogisticRegression(C=i, random_state=0)\n",
    "\n",
    "    accuracy = cross_val_score(est,X_train_stan, y_train,cv=10,scoring='accuracy').mean() # ,scoring='precision'\n",
    "    \n",
    "    perf.append(accuracy)\n",
    "p1 = figure(title='learning_rate performance',tools='')\n",
    "\n",
    "combine = zip(forest_size,perf)\n",
    "listcomb = list(combine)\n",
    "df1 = pd.DataFrame(listcomb,columns=['param','perf'])\n",
    "v1 = df1.param[df1.perf==df1.perf.max(axis=0)].head(1).values[0]\n",
    "\n",
    "p1.line(x=forest_size,y=perf, color='green')\n",
    "show(p1)\n",
    "print(v1)"
   ]
  },
  {
   "cell_type": "code",
   "execution_count": 91,
   "metadata": {},
   "outputs": [],
   "source": [
    "#fit model with tuned parameter\n",
    "lr = LogisticRegression(C=v1,random_state=0)\n",
    "ml = lr.fit(X_train_stan,y_train)"
   ]
  },
  {
   "cell_type": "code",
   "execution_count": 92,
   "metadata": {},
   "outputs": [
    {
     "data": {
      "text/plain": [
       "0.6804123711340206"
      ]
     },
     "execution_count": 92,
     "metadata": {},
     "output_type": "execute_result"
    }
   ],
   "source": [
    "#run X_valid through fitted model\n",
    "ml.score(X_valid_stan,y_valid)"
   ]
  },
  {
   "cell_type": "code",
   "execution_count": 93,
   "metadata": {},
   "outputs": [],
   "source": [
    "results = ml.predict(X_valid_stan)\n",
    "prob = ml.predict_proba(X_valid_stan)"
   ]
  },
  {
   "cell_type": "code",
   "execution_count": 94,
   "metadata": {},
   "outputs": [
    {
     "name": "stdout",
     "output_type": "stream",
     "text": [
      "                   Actual Class 0  Actual Class 1\n",
      "Predicted Class 0              20              22\n",
      "Predicted Class 1               9              46\n"
     ]
    },
    {
     "data": {
      "text/html": [
       "\n",
       "\n",
       "\n",
       "\n",
       "\n",
       "\n",
       "  <div class=\"bk-root\" id=\"a10cbf83-b91e-4d79-9261-775a524dcd4f\" data-root-id=\"1282\"></div>\n"
      ]
     },
     "metadata": {},
     "output_type": "display_data"
    },
    {
     "data": {
      "application/javascript": [
       "(function(root) {\n",
       "  function embed_document(root) {\n",
       "    \n",
       "  var docs_json = {\"b6292ba5-a0c6-4508-89d2-ffd2210bdb42\":{\"roots\":{\"references\":[{\"attributes\":{\"below\":[{\"id\":\"1293\",\"type\":\"LinearAxis\"}],\"center\":[{\"id\":\"1297\",\"type\":\"Grid\"},{\"id\":\"1302\",\"type\":\"Grid\"},{\"id\":\"1327\",\"type\":\"Legend\"}],\"left\":[{\"id\":\"1298\",\"type\":\"LinearAxis\"}],\"renderers\":[{\"id\":\"1319\",\"type\":\"GlyphRenderer\"}],\"title\":{\"id\":\"1283\",\"type\":\"Title\"},\"toolbar\":{\"id\":\"1309\",\"type\":\"Toolbar\"},\"x_range\":{\"id\":\"1329\",\"type\":\"Range1d\"},\"x_scale\":{\"id\":\"1289\",\"type\":\"LinearScale\"},\"y_range\":{\"id\":\"1330\",\"type\":\"Range1d\"},\"y_scale\":{\"id\":\"1291\",\"type\":\"LinearScale\"}},\"id\":\"1282\",\"subtype\":\"Figure\",\"type\":\"Plot\"},{\"attributes\":{},\"id\":\"1291\",\"type\":\"LinearScale\"},{\"attributes\":{\"active_drag\":\"auto\",\"active_inspect\":\"auto\",\"active_multi\":null,\"active_scroll\":\"auto\",\"active_tap\":\"auto\",\"tools\":[{\"id\":\"1303\",\"type\":\"PanTool\"},{\"id\":\"1304\",\"type\":\"WheelZoomTool\"},{\"id\":\"1305\",\"type\":\"BoxZoomTool\"},{\"id\":\"1306\",\"type\":\"SaveTool\"},{\"id\":\"1307\",\"type\":\"ResetTool\"},{\"id\":\"1308\",\"type\":\"HelpTool\"}]},\"id\":\"1309\",\"type\":\"Toolbar\"},{\"attributes\":{\"dimension\":1,\"ticker\":{\"id\":\"1299\",\"type\":\"BasicTicker\"}},\"id\":\"1302\",\"type\":\"Grid\"},{\"attributes\":{\"data_source\":{\"id\":\"1316\",\"type\":\"ColumnDataSource\"},\"glyph\":{\"id\":\"1317\",\"type\":\"Line\"},\"hover_glyph\":null,\"muted_glyph\":null,\"nonselection_glyph\":{\"id\":\"1318\",\"type\":\"Line\"},\"selection_glyph\":null,\"view\":{\"id\":\"1320\",\"type\":\"CDSView\"}},\"id\":\"1319\",\"type\":\"GlyphRenderer\"},{\"attributes\":{},\"id\":\"1359\",\"type\":\"Selection\"},{\"attributes\":{},\"id\":\"1304\",\"type\":\"WheelZoomTool\"},{\"attributes\":{\"callback\":null},\"id\":\"1330\",\"type\":\"Range1d\"},{\"attributes\":{\"source\":{\"id\":\"1316\",\"type\":\"ColumnDataSource\"}},\"id\":\"1320\",\"type\":\"CDSView\"},{\"attributes\":{\"callback\":null},\"id\":\"1329\",\"type\":\"Range1d\"},{\"attributes\":{\"items\":[{\"id\":\"1328\",\"type\":\"LegendItem\"}],\"orientation\":\"horizontal\"},\"id\":\"1327\",\"type\":\"Legend\"},{\"attributes\":{\"callback\":null,\"data\":{\"x\":{\"__ndarray__\":\"AAAAAAAAAAAAAAAAAAAAAAAAAAAAAAAAGIZhGIZhmD8YhmEYhmGYPxiGYRiGYag/GIZhGIZhqD+SJEmSJEmyP5IkSZIkSbI/GIZhGIZhuD8YhmEYhmG4P9u2bdu2bcs/27Zt27Ztyz+SJEmSJEnSP5IkSZIkSdI/VVVVVVVV1T9VVVVVVVXVPxiGYRiGYdg/GIZhGIZh2D96nud5nufZP3qe53me59k/27Zt27Zt2z/btm3btm3bPz3P8zzP89w/Pc/zPM/z3D8xDMMwDMPgPzEMwzAMw+A/wzAMwzAM4z/DMAzDMAzjP7dt27Zt2+Y/t23btm3b5j8YhmEYhmHoPxiGYRiGYeg/ep7neZ7n6T96nud5nufpPwzDMAzDMOw/DMMwDMMw7D89z/M8z/PsPz3P8zzP8+w/btu2bdu27T9u27Zt27btP57neZ7nee4/nud5nud57j8AAAAAAADwPw==\",\"dtype\":\"float64\",\"shape\":[44]},\"y\":{\"__ndarray__\":\"AAAAAAAAAACeEuQpQZ6SP0YXXXTRRbc/RhdddNFFtz9GF1100UXHP0YXXXTRRcc/SpCnBHlK0D9KkKcEeUrQP0GeEuQpQd4/QZ4S5ClB3j/fsPYNa9/gP9+w9g1r3+A/dNFFF1104T900UUXXXThP54S5ClBnuI/nhLkKUGe4j+HtW9Y+4blP4e1b1j7huU/HNa+Ye0b5j8c1r5h7RvmP7H2DWvfsOY/sfYNa9+w5j+amZmZmZnpP5qZmZmZmek/w9o3rH3D6j/D2jesfcPqP1j7hrVvWOs/WPuGtW9Y6z/tG9a+Ye3rP+0b1r5h7es/gjwlyFOC7D+CPCXIU4LsPxdddNFFF+0/F1100UUX7T+sfcPaN6ztP6x9w9o3rO0/QZ4S5ClB7j9BnhLkKUHuP9a+Ye0b1u4/1r5h7RvW7j9r37D2DWvvP2vfsPYNa+8/AAAAAAAA8D8AAAAAAADwPw==\",\"dtype\":\"float64\",\"shape\":[44]}},\"selected\":{\"id\":\"1359\",\"type\":\"Selection\"},\"selection_policy\":{\"id\":\"1360\",\"type\":\"UnionRenderers\"}},\"id\":\"1316\",\"type\":\"ColumnDataSource\"},{\"attributes\":{},\"id\":\"1308\",\"type\":\"HelpTool\"},{\"attributes\":{},\"id\":\"1323\",\"type\":\"BasicTickFormatter\"},{\"attributes\":{},\"id\":\"1325\",\"type\":\"BasicTickFormatter\"},{\"attributes\":{},\"id\":\"1307\",\"type\":\"ResetTool\"},{\"attributes\":{},\"id\":\"1303\",\"type\":\"PanTool\"},{\"attributes\":{\"overlay\":{\"id\":\"1326\",\"type\":\"BoxAnnotation\"}},\"id\":\"1305\",\"type\":\"BoxZoomTool\"},{\"attributes\":{},\"id\":\"1294\",\"type\":\"BasicTicker\"},{\"attributes\":{\"axis_label\":\"True Positive Rate or (Sensitivity)\",\"formatter\":{\"id\":\"1323\",\"type\":\"BasicTickFormatter\"},\"ticker\":{\"id\":\"1299\",\"type\":\"BasicTicker\"}},\"id\":\"1298\",\"type\":\"LinearAxis\"},{\"attributes\":{\"line_color\":\"#1f77b4\",\"x\":{\"field\":\"x\"},\"y\":{\"field\":\"y\"}},\"id\":\"1317\",\"type\":\"Line\"},{\"attributes\":{\"axis_label\":\"False Positive Rate or (1 - Specifity)\",\"formatter\":{\"id\":\"1325\",\"type\":\"BasicTickFormatter\"},\"ticker\":{\"id\":\"1294\",\"type\":\"BasicTicker\"}},\"id\":\"1293\",\"type\":\"LinearAxis\"},{\"attributes\":{},\"id\":\"1289\",\"type\":\"LinearScale\"},{\"attributes\":{},\"id\":\"1306\",\"type\":\"SaveTool\"},{\"attributes\":{},\"id\":\"1299\",\"type\":\"BasicTicker\"},{\"attributes\":{\"bottom_units\":\"screen\",\"fill_alpha\":{\"value\":0.5},\"fill_color\":{\"value\":\"lightgrey\"},\"left_units\":\"screen\",\"level\":\"overlay\",\"line_alpha\":{\"value\":1.0},\"line_color\":{\"value\":\"black\"},\"line_dash\":[4,4],\"line_width\":{\"value\":2},\"render_mode\":\"css\",\"right_units\":\"screen\",\"top_units\":\"screen\"},\"id\":\"1326\",\"type\":\"BoxAnnotation\"},{\"attributes\":{\"line_alpha\":0.1,\"line_color\":\"#1f77b4\",\"x\":{\"field\":\"x\"},\"y\":{\"field\":\"y\"}},\"id\":\"1318\",\"type\":\"Line\"},{\"attributes\":{},\"id\":\"1360\",\"type\":\"UnionRenderers\"},{\"attributes\":{\"text\":\"Receiver Operating Characteristic\"},\"id\":\"1283\",\"type\":\"Title\"},{\"attributes\":{\"label\":{\"value\":\"ROC curve (area = 0.731)\"},\"renderers\":[{\"id\":\"1319\",\"type\":\"GlyphRenderer\"}]},\"id\":\"1328\",\"type\":\"LegendItem\"},{\"attributes\":{\"ticker\":{\"id\":\"1294\",\"type\":\"BasicTicker\"}},\"id\":\"1297\",\"type\":\"Grid\"}],\"root_ids\":[\"1282\"]},\"title\":\"Bokeh Application\",\"version\":\"1.3.4\"}};\n",
       "  var render_items = [{\"docid\":\"b6292ba5-a0c6-4508-89d2-ffd2210bdb42\",\"roots\":{\"1282\":\"a10cbf83-b91e-4d79-9261-775a524dcd4f\"}}];\n",
       "  root.Bokeh.embed.embed_items_notebook(docs_json, render_items);\n",
       "\n",
       "  }\n",
       "  if (root.Bokeh !== undefined) {\n",
       "    embed_document(root);\n",
       "  } else {\n",
       "    var attempts = 0;\n",
       "    var timer = setInterval(function(root) {\n",
       "      if (root.Bokeh !== undefined) {\n",
       "        embed_document(root);\n",
       "        clearInterval(timer);\n",
       "      }\n",
       "      attempts++;\n",
       "      if (attempts > 100) {\n",
       "        console.log(\"Bokeh: ERROR: Unable to run BokehJS code because BokehJS library is missing\");\n",
       "        clearInterval(timer);\n",
       "      }\n",
       "    }, 10, root)\n",
       "  }\n",
       "})(window);"
      ],
      "application/vnd.bokehjs_exec.v0+json": ""
     },
     "metadata": {
      "application/vnd.bokehjs_exec.v0+json": {
       "id": "1282"
      }
     },
     "output_type": "display_data"
    }
   ],
   "source": [
    "#view confusion matrix\n",
    "from sklearn.metrics import classification_report,confusion_matrix\n",
    "\n",
    "cm = confusion_matrix(y_valid,results)\n",
    "#lets make that easier to read\n",
    "cm_df = pd.DataFrame(cm, index=['Predicted Class 0', 'Predicted Class 1'], \n",
    "                     columns=['Actual Class 0', 'Actual Class 1'])\n",
    "\n",
    "print (cm_df)\n",
    "plot_roc_curve(y_valid, prob)"
   ]
  },
  {
   "cell_type": "code",
   "execution_count": 95,
   "metadata": {},
   "outputs": [
    {
     "data": {
      "text/html": [
       "<div>\n",
       "<style scoped>\n",
       "    .dataframe tbody tr th:only-of-type {\n",
       "        vertical-align: middle;\n",
       "    }\n",
       "\n",
       "    .dataframe tbody tr th {\n",
       "        vertical-align: top;\n",
       "    }\n",
       "\n",
       "    .dataframe thead th {\n",
       "        text-align: right;\n",
       "    }\n",
       "</style>\n",
       "<table border=\"1\" class=\"dataframe\">\n",
       "  <thead>\n",
       "    <tr style=\"text-align: right;\">\n",
       "      <th></th>\n",
       "      <th>0</th>\n",
       "      <th>1</th>\n",
       "    </tr>\n",
       "  </thead>\n",
       "  <tbody>\n",
       "    <tr>\n",
       "      <td>533</td>\n",
       "      <td>One-Putt Percentage - Round 1 - (%)</td>\n",
       "      <td>0.112638</td>\n",
       "    </tr>\n",
       "    <tr>\n",
       "      <td>332</td>\n",
       "      <td>Fairway Approach (RTP Score) - (AVG RTP)</td>\n",
       "      <td>0.107454</td>\n",
       "    </tr>\n",
       "    <tr>\n",
       "      <td>124</td>\n",
       "      <td>Average Distance of Birdie putts made - (LONGE...</td>\n",
       "      <td>0.103498</td>\n",
       "    </tr>\n",
       "    <tr>\n",
       "      <td>344</td>\n",
       "      <td>First Tee Early Lowest Round - (LOW RND)</td>\n",
       "      <td>0.079398</td>\n",
       "    </tr>\n",
       "    <tr>\n",
       "      <td>54</td>\n",
       "      <td>Approaches from 125-150 yards (Rgh) - (TOTAL D...</td>\n",
       "      <td>0.076711</td>\n",
       "    </tr>\n",
       "    <tr>\n",
       "      <td>50</td>\n",
       "      <td>Approaches from 100-125 yards - (TOTAL DISTANC...</td>\n",
       "      <td>0.076433</td>\n",
       "    </tr>\n",
       "    <tr>\n",
       "      <td>51</td>\n",
       "      <td>Approaches from 125-150 yards (Rgh) - (# OF AT...</td>\n",
       "      <td>0.075893</td>\n",
       "    </tr>\n",
       "    <tr>\n",
       "      <td>306</td>\n",
       "      <td>Driving Pct. &lt;= 240 (Measured) - (%)</td>\n",
       "      <td>0.073004</td>\n",
       "    </tr>\n",
       "    <tr>\n",
       "      <td>501</td>\n",
       "      <td>Late Round 1 Scoring Average - (AVG)</td>\n",
       "      <td>0.072421</td>\n",
       "    </tr>\n",
       "    <tr>\n",
       "      <td>47</td>\n",
       "      <td>Approaches from 100-125 yards - (# OF ATTEMPTS)</td>\n",
       "      <td>0.068955</td>\n",
       "    </tr>\n",
       "  </tbody>\n",
       "</table>\n",
       "</div>"
      ],
      "text/plain": [
       "                                                     0         1\n",
       "533                One-Putt Percentage - Round 1 - (%)  0.112638\n",
       "332           Fairway Approach (RTP Score) - (AVG RTP)  0.107454\n",
       "124  Average Distance of Birdie putts made - (LONGE...  0.103498\n",
       "344           First Tee Early Lowest Round - (LOW RND)  0.079398\n",
       "54   Approaches from 125-150 yards (Rgh) - (TOTAL D...  0.076711\n",
       "50   Approaches from 100-125 yards - (TOTAL DISTANC...  0.076433\n",
       "51   Approaches from 125-150 yards (Rgh) - (# OF AT...  0.075893\n",
       "306               Driving Pct. <= 240 (Measured) - (%)  0.073004\n",
       "501               Late Round 1 Scoring Average - (AVG)  0.072421\n",
       "47     Approaches from 100-125 yards - (# OF ATTEMPTS)  0.068955"
      ]
     },
     "execution_count": 95,
     "metadata": {},
     "output_type": "execute_result"
    }
   ],
   "source": [
    "#view feature importance\n",
    "names=features.columns\n",
    "coefs = ml.coef_[0]\n",
    "importances = pd.DataFrame(zip(names,ml.coef_[0]))\n",
    "importances.sort_values((1),ascending = False).head(10)"
   ]
  },
  {
   "cell_type": "code",
   "execution_count": 96,
   "metadata": {},
   "outputs": [],
   "source": [
    "#run current pga stats through fitted model\n",
    "imp_pga_2020_sub = imp_pga_2020.drop(columns=['PlayerName'])\n",
    "\n",
    "stan_imp_pga_2020 = stan.fit_transform(imp_pga_2020_sub[list(features.columns)])\n",
    "stan_imp_pga_2020 = pd.DataFrame(stan_imp_pga_2020, columns=list(features.columns))\n",
    "\n",
    "results = ml.predict(stan_imp_pga_2020)\n",
    "proba = ml.predict_proba(stan_imp_pga_2020).max(axis=1).tolist()\n",
    "res = pd.DataFrame()\n",
    "res['PlayerName'] = imp_pga_2020.PlayerName\n",
    "res['results'] = results.tolist()\n",
    "res['prob'] = proba"
   ]
  },
  {
   "cell_type": "code",
   "execution_count": 97,
   "metadata": {},
   "outputs": [
    {
     "data": {
      "text/plain": [
       "True     197\n",
       "False    120\n",
       "Name: results, dtype: int64"
      ]
     },
     "execution_count": 97,
     "metadata": {},
     "output_type": "execute_result"
    }
   ],
   "source": [
    "res.results.value_counts()"
   ]
  },
  {
   "cell_type": "code",
   "execution_count": 98,
   "metadata": {},
   "outputs": [
    {
     "data": {
      "text/html": [
       "<div>\n",
       "<style scoped>\n",
       "    .dataframe tbody tr th:only-of-type {\n",
       "        vertical-align: middle;\n",
       "    }\n",
       "\n",
       "    .dataframe tbody tr th {\n",
       "        vertical-align: top;\n",
       "    }\n",
       "\n",
       "    .dataframe thead th {\n",
       "        text-align: right;\n",
       "    }\n",
       "</style>\n",
       "<table border=\"1\" class=\"dataframe\">\n",
       "  <thead>\n",
       "    <tr style=\"text-align: right;\">\n",
       "      <th></th>\n",
       "      <th>PlayerName</th>\n",
       "      <th>results</th>\n",
       "      <th>prob</th>\n",
       "    </tr>\n",
       "  </thead>\n",
       "  <tbody>\n",
       "    <tr>\n",
       "      <td>29</td>\n",
       "      <td>Bo Hoag</td>\n",
       "      <td>True</td>\n",
       "      <td>0.958590</td>\n",
       "    </tr>\n",
       "    <tr>\n",
       "      <td>85</td>\n",
       "      <td>David Hearn</td>\n",
       "      <td>True</td>\n",
       "      <td>0.957629</td>\n",
       "    </tr>\n",
       "    <tr>\n",
       "      <td>307</td>\n",
       "      <td>Xinjun Zhang</td>\n",
       "      <td>True</td>\n",
       "      <td>0.953452</td>\n",
       "    </tr>\n",
       "    <tr>\n",
       "      <td>44</td>\n",
       "      <td>Bronson Burgoon</td>\n",
       "      <td>True</td>\n",
       "      <td>0.953074</td>\n",
       "    </tr>\n",
       "    <tr>\n",
       "      <td>27</td>\n",
       "      <td>Billy Horschel</td>\n",
       "      <td>True</td>\n",
       "      <td>0.950222</td>\n",
       "    </tr>\n",
       "    <tr>\n",
       "      <td>118</td>\n",
       "      <td>J.B. Holmes</td>\n",
       "      <td>False</td>\n",
       "      <td>0.937679</td>\n",
       "    </tr>\n",
       "    <tr>\n",
       "      <td>207</td>\n",
       "      <td>Nick Taylor</td>\n",
       "      <td>True</td>\n",
       "      <td>0.935099</td>\n",
       "    </tr>\n",
       "    <tr>\n",
       "      <td>188</td>\n",
       "      <td>Matt Kuchar</td>\n",
       "      <td>True</td>\n",
       "      <td>0.930301</td>\n",
       "    </tr>\n",
       "    <tr>\n",
       "      <td>206</td>\n",
       "      <td>Nelson Ledesma</td>\n",
       "      <td>False</td>\n",
       "      <td>0.919880</td>\n",
       "    </tr>\n",
       "    <tr>\n",
       "      <td>253</td>\n",
       "      <td>Sangmoon Bae</td>\n",
       "      <td>False</td>\n",
       "      <td>0.913000</td>\n",
       "    </tr>\n",
       "  </tbody>\n",
       "</table>\n",
       "</div>"
      ],
      "text/plain": [
       "          PlayerName  results      prob\n",
       "29           Bo Hoag     True  0.958590\n",
       "85       David Hearn     True  0.957629\n",
       "307     Xinjun Zhang     True  0.953452\n",
       "44   Bronson Burgoon     True  0.953074\n",
       "27    Billy Horschel     True  0.950222\n",
       "118      J.B. Holmes    False  0.937679\n",
       "207      Nick Taylor     True  0.935099\n",
       "188      Matt Kuchar     True  0.930301\n",
       "206   Nelson Ledesma    False  0.919880\n",
       "253     Sangmoon Bae    False  0.913000"
      ]
     },
     "execution_count": 98,
     "metadata": {},
     "output_type": "execute_result"
    }
   ],
   "source": [
    "res.sort_values(['prob'],ascending=[0]).head(10)"
   ]
  },
  {
   "cell_type": "code",
   "execution_count": null,
   "metadata": {},
   "outputs": [],
   "source": []
  }
 ],
 "metadata": {
  "kernelspec": {
   "display_name": "Python 3",
   "language": "python",
   "name": "python3"
  },
  "language_info": {
   "codemirror_mode": {
    "name": "ipython",
    "version": 3
   },
   "file_extension": ".py",
   "mimetype": "text/x-python",
   "name": "python",
   "nbconvert_exporter": "python",
   "pygments_lexer": "ipython3",
   "version": "3.6.9"
  }
 },
 "nbformat": 4,
 "nbformat_minor": 2
}
